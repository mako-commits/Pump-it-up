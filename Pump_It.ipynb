{
  "cells": [
    {
      "cell_type": "markdown",
      "metadata": {
        "id": "view-in-github",
        "colab_type": "text"
      },
      "source": [
        "<a href=\"https://colab.research.google.com/github/mako-commits/Pump-it-up/blob/main/Pump_It.ipynb\" target=\"_parent\"><img src=\"https://colab.research.google.com/assets/colab-badge.svg\" alt=\"Open In Colab\"/></a>"
      ]
    },
    {
      "cell_type": "markdown",
      "metadata": {
        "id": "bEDBAN3v0_Wz"
      },
      "source": [
        "#**# Pump It Predict**\n",
        "\n",
        "*Authors: Gemelyn Barrogo, Shweta Mishra, Mubarak Mustapha*\n",
        "\n",
        "For this project, we will be using three different Machine Learning Models to predict whether a pump is functional, needs repair, or non-functional. A comparative analysis between the performance of these models (Logistic regression and Random Forest from Scikit-Learn, and Neural Network using TensorFlow) is done to assess which would give a better performance.\n"
      ]
    },
    {
      "cell_type": "markdown",
      "source": [
        "### Import Libraries"
      ],
      "metadata": {
        "id": "rUo8atneqTAu"
      }
    },
    {
      "cell_type": "code",
      "source": [
        "import numpy as np\n",
        "import pandas as pd\n",
        "from sklearn.model_selection import train_test_split\n",
        "\n",
        "#Feature engineering libraries\n",
        "from sklearn.preprocessing import MinMaxScaler, OneHotEncoder\n",
        "from sklearn.compose import ColumnTransformer\n",
        "from sklearn.model_selection import GridSearchCV\n",
        "\n",
        "# Visualization\n",
        "from mlxtend.plotting import plot_confusion_matrix\n",
        "import seaborn as sns\n",
        "import matplotlib.pyplot as plt\n",
        "\n",
        "# Classification Models\n",
        "from sklearn.linear_model import LogisticRegression\n",
        "from sklearn.ensemble import RandomForestClassifier\n",
        "from sklearn.metrics import accuracy_score, precision_score, recall_score, f1_score, confusion_matrix, classification_report\n",
        "from sklearn.model_selection import cross_validate\n",
        "\n",
        "# TensorFlow Libraries\n",
        "import tensorflow as tf\n",
        "from tensorflow import keras\n",
        "from tensorflow.keras import layers"
      ],
      "metadata": {
        "id": "3lUMRKEP-ztt"
      },
      "execution_count": null,
      "outputs": []
    },
    {
      "cell_type": "markdown",
      "metadata": {
        "id": "O3a7Hxv90_XH"
      },
      "source": [
        "# Part One - Data Preprocessing\n",
        "The dataset taken from Kaggle for this challenge was already divided into X_train, X_test, and y_train, and we noted that y_test wasn't given. Due to this nature, we decided to combine the X_train and y_train csv files and call it as Train.csv, which still has a lot of data for training. We then split this into training and testing dataset later on so that we can test the accuracy of the models with new data which has not been seen or trained with before. Doing so ensures that we have all the actual labels of the training and testing dataset for easier comparison to check how well each chosen model compares to the others."
      ]
    },
    {
      "cell_type": "code",
      "source": [
        "# Load dataset\n",
        "pump_data = pd.read_csv(\"pump_dataset.csv\")\n"
      ],
      "metadata": {
        "id": "-KjzsVWhIxsW"
      },
      "execution_count": null,
      "outputs": []
    },
    {
      "cell_type": "code",
      "source": [
        "#print shape of data\n",
        "print('Pump data', pump_data.shape)"
      ],
      "metadata": {
        "id": "sGLcUmc_JU3f",
        "colab": {
          "base_uri": "https://localhost:8080/"
        },
        "outputId": "fa3631ff-3e8a-4aed-ef35-d137323d53f4"
      },
      "execution_count": null,
      "outputs": [
        {
          "output_type": "stream",
          "name": "stdout",
          "text": [
            "Pump data (44550, 41)\n"
          ]
        }
      ]
    },
    {
      "cell_type": "markdown",
      "source": [
        "## Data Visualization"
      ],
      "metadata": {
        "id": "A-3khtPzjBXB"
      }
    },
    {
      "cell_type": "code",
      "source": [
        "# View table head\n",
        "pump_data.head()"
      ],
      "metadata": {
        "id": "p7IphsDtM7Q6",
        "colab": {
          "base_uri": "https://localhost:8080/",
          "height": 386
        },
        "outputId": "8e9cc490-c42a-4887-b7ca-664fe320475f"
      },
      "execution_count": null,
      "outputs": [
        {
          "output_type": "execute_result",
          "data": {
            "text/plain": [
              "      id  amount_tsh date_recorded                  funder  gps_height  \\\n",
              "0   7411         7.0    2013-03-20         Germany Republi        1203   \n",
              "1  18014         0.0    2011-02-21                    Cdtf        1409   \n",
              "2  26103         0.0    2013-01-04  Government Of Tanzania        1572   \n",
              "3  31140         0.0    2011-04-03        District Council           0   \n",
              "4  12286       300.0    2013-03-08        District Council        1283   \n",
              "\n",
              "          installer  longitude  latitude      wpt_name  num_private  ...  \\\n",
              "0               CES  37.228664 -3.256505   Kwa Abdalla            0  ...   \n",
              "1              CDTF  34.615481 -9.972601          none            0  ...   \n",
              "2               DWE  36.658778 -3.321529  Kwa Loishiye            0  ...   \n",
              "3  District Council  33.628025 -8.860795   Mwanzechele            0  ...   \n",
              "4  District Council  37.655509 -3.669777    Kwa Kidaya            0  ...   \n",
              "\n",
              "  water_quality quality_group      quantity  quantity_group  source  \\\n",
              "0          soft          good        enough          enough  spring   \n",
              "1          soft          good        enough          enough  spring   \n",
              "2          soft          good  insufficient    insufficient  spring   \n",
              "3          soft          good  insufficient    insufficient   river   \n",
              "4          soft          good  insufficient    insufficient  spring   \n",
              "\n",
              "  source_type source_class     waterpoint_type waterpoint_type_group  \\\n",
              "0      spring  groundwater  communal standpipe    communal standpipe   \n",
              "1      spring  groundwater  communal standpipe    communal standpipe   \n",
              "2      spring  groundwater  communal standpipe    communal standpipe   \n",
              "3  river/lake      surface  communal standpipe    communal standpipe   \n",
              "4      spring  groundwater  communal standpipe    communal standpipe   \n",
              "\n",
              "     status_group  \n",
              "0      functional  \n",
              "1      functional  \n",
              "2  non functional  \n",
              "3      functional  \n",
              "4      functional  \n",
              "\n",
              "[5 rows x 41 columns]"
            ],
            "text/html": [
              "\n",
              "  <div id=\"df-ca4c9e70-25c9-4a44-a527-061af046b8f6\">\n",
              "    <div class=\"colab-df-container\">\n",
              "      <div>\n",
              "<style scoped>\n",
              "    .dataframe tbody tr th:only-of-type {\n",
              "        vertical-align: middle;\n",
              "    }\n",
              "\n",
              "    .dataframe tbody tr th {\n",
              "        vertical-align: top;\n",
              "    }\n",
              "\n",
              "    .dataframe thead th {\n",
              "        text-align: right;\n",
              "    }\n",
              "</style>\n",
              "<table border=\"1\" class=\"dataframe\">\n",
              "  <thead>\n",
              "    <tr style=\"text-align: right;\">\n",
              "      <th></th>\n",
              "      <th>id</th>\n",
              "      <th>amount_tsh</th>\n",
              "      <th>date_recorded</th>\n",
              "      <th>funder</th>\n",
              "      <th>gps_height</th>\n",
              "      <th>installer</th>\n",
              "      <th>longitude</th>\n",
              "      <th>latitude</th>\n",
              "      <th>wpt_name</th>\n",
              "      <th>num_private</th>\n",
              "      <th>...</th>\n",
              "      <th>water_quality</th>\n",
              "      <th>quality_group</th>\n",
              "      <th>quantity</th>\n",
              "      <th>quantity_group</th>\n",
              "      <th>source</th>\n",
              "      <th>source_type</th>\n",
              "      <th>source_class</th>\n",
              "      <th>waterpoint_type</th>\n",
              "      <th>waterpoint_type_group</th>\n",
              "      <th>status_group</th>\n",
              "    </tr>\n",
              "  </thead>\n",
              "  <tbody>\n",
              "    <tr>\n",
              "      <th>0</th>\n",
              "      <td>7411</td>\n",
              "      <td>7.0</td>\n",
              "      <td>2013-03-20</td>\n",
              "      <td>Germany Republi</td>\n",
              "      <td>1203</td>\n",
              "      <td>CES</td>\n",
              "      <td>37.228664</td>\n",
              "      <td>-3.256505</td>\n",
              "      <td>Kwa Abdalla</td>\n",
              "      <td>0</td>\n",
              "      <td>...</td>\n",
              "      <td>soft</td>\n",
              "      <td>good</td>\n",
              "      <td>enough</td>\n",
              "      <td>enough</td>\n",
              "      <td>spring</td>\n",
              "      <td>spring</td>\n",
              "      <td>groundwater</td>\n",
              "      <td>communal standpipe</td>\n",
              "      <td>communal standpipe</td>\n",
              "      <td>functional</td>\n",
              "    </tr>\n",
              "    <tr>\n",
              "      <th>1</th>\n",
              "      <td>18014</td>\n",
              "      <td>0.0</td>\n",
              "      <td>2011-02-21</td>\n",
              "      <td>Cdtf</td>\n",
              "      <td>1409</td>\n",
              "      <td>CDTF</td>\n",
              "      <td>34.615481</td>\n",
              "      <td>-9.972601</td>\n",
              "      <td>none</td>\n",
              "      <td>0</td>\n",
              "      <td>...</td>\n",
              "      <td>soft</td>\n",
              "      <td>good</td>\n",
              "      <td>enough</td>\n",
              "      <td>enough</td>\n",
              "      <td>spring</td>\n",
              "      <td>spring</td>\n",
              "      <td>groundwater</td>\n",
              "      <td>communal standpipe</td>\n",
              "      <td>communal standpipe</td>\n",
              "      <td>functional</td>\n",
              "    </tr>\n",
              "    <tr>\n",
              "      <th>2</th>\n",
              "      <td>26103</td>\n",
              "      <td>0.0</td>\n",
              "      <td>2013-01-04</td>\n",
              "      <td>Government Of Tanzania</td>\n",
              "      <td>1572</td>\n",
              "      <td>DWE</td>\n",
              "      <td>36.658778</td>\n",
              "      <td>-3.321529</td>\n",
              "      <td>Kwa Loishiye</td>\n",
              "      <td>0</td>\n",
              "      <td>...</td>\n",
              "      <td>soft</td>\n",
              "      <td>good</td>\n",
              "      <td>insufficient</td>\n",
              "      <td>insufficient</td>\n",
              "      <td>spring</td>\n",
              "      <td>spring</td>\n",
              "      <td>groundwater</td>\n",
              "      <td>communal standpipe</td>\n",
              "      <td>communal standpipe</td>\n",
              "      <td>non functional</td>\n",
              "    </tr>\n",
              "    <tr>\n",
              "      <th>3</th>\n",
              "      <td>31140</td>\n",
              "      <td>0.0</td>\n",
              "      <td>2011-04-03</td>\n",
              "      <td>District Council</td>\n",
              "      <td>0</td>\n",
              "      <td>District Council</td>\n",
              "      <td>33.628025</td>\n",
              "      <td>-8.860795</td>\n",
              "      <td>Mwanzechele</td>\n",
              "      <td>0</td>\n",
              "      <td>...</td>\n",
              "      <td>soft</td>\n",
              "      <td>good</td>\n",
              "      <td>insufficient</td>\n",
              "      <td>insufficient</td>\n",
              "      <td>river</td>\n",
              "      <td>river/lake</td>\n",
              "      <td>surface</td>\n",
              "      <td>communal standpipe</td>\n",
              "      <td>communal standpipe</td>\n",
              "      <td>functional</td>\n",
              "    </tr>\n",
              "    <tr>\n",
              "      <th>4</th>\n",
              "      <td>12286</td>\n",
              "      <td>300.0</td>\n",
              "      <td>2013-03-08</td>\n",
              "      <td>District Council</td>\n",
              "      <td>1283</td>\n",
              "      <td>District Council</td>\n",
              "      <td>37.655509</td>\n",
              "      <td>-3.669777</td>\n",
              "      <td>Kwa Kidaya</td>\n",
              "      <td>0</td>\n",
              "      <td>...</td>\n",
              "      <td>soft</td>\n",
              "      <td>good</td>\n",
              "      <td>insufficient</td>\n",
              "      <td>insufficient</td>\n",
              "      <td>spring</td>\n",
              "      <td>spring</td>\n",
              "      <td>groundwater</td>\n",
              "      <td>communal standpipe</td>\n",
              "      <td>communal standpipe</td>\n",
              "      <td>functional</td>\n",
              "    </tr>\n",
              "  </tbody>\n",
              "</table>\n",
              "<p>5 rows × 41 columns</p>\n",
              "</div>\n",
              "      <button class=\"colab-df-convert\" onclick=\"convertToInteractive('df-ca4c9e70-25c9-4a44-a527-061af046b8f6')\"\n",
              "              title=\"Convert this dataframe to an interactive table.\"\n",
              "              style=\"display:none;\">\n",
              "        \n",
              "  <svg xmlns=\"http://www.w3.org/2000/svg\" height=\"24px\"viewBox=\"0 0 24 24\"\n",
              "       width=\"24px\">\n",
              "    <path d=\"M0 0h24v24H0V0z\" fill=\"none\"/>\n",
              "    <path d=\"M18.56 5.44l.94 2.06.94-2.06 2.06-.94-2.06-.94-.94-2.06-.94 2.06-2.06.94zm-11 1L8.5 8.5l.94-2.06 2.06-.94-2.06-.94L8.5 2.5l-.94 2.06-2.06.94zm10 10l.94 2.06.94-2.06 2.06-.94-2.06-.94-.94-2.06-.94 2.06-2.06.94z\"/><path d=\"M17.41 7.96l-1.37-1.37c-.4-.4-.92-.59-1.43-.59-.52 0-1.04.2-1.43.59L10.3 9.45l-7.72 7.72c-.78.78-.78 2.05 0 2.83L4 21.41c.39.39.9.59 1.41.59.51 0 1.02-.2 1.41-.59l7.78-7.78 2.81-2.81c.8-.78.8-2.07 0-2.86zM5.41 20L4 18.59l7.72-7.72 1.47 1.35L5.41 20z\"/>\n",
              "  </svg>\n",
              "      </button>\n",
              "      \n",
              "  <style>\n",
              "    .colab-df-container {\n",
              "      display:flex;\n",
              "      flex-wrap:wrap;\n",
              "      gap: 12px;\n",
              "    }\n",
              "\n",
              "    .colab-df-convert {\n",
              "      background-color: #E8F0FE;\n",
              "      border: none;\n",
              "      border-radius: 50%;\n",
              "      cursor: pointer;\n",
              "      display: none;\n",
              "      fill: #1967D2;\n",
              "      height: 32px;\n",
              "      padding: 0 0 0 0;\n",
              "      width: 32px;\n",
              "    }\n",
              "\n",
              "    .colab-df-convert:hover {\n",
              "      background-color: #E2EBFA;\n",
              "      box-shadow: 0px 1px 2px rgba(60, 64, 67, 0.3), 0px 1px 3px 1px rgba(60, 64, 67, 0.15);\n",
              "      fill: #174EA6;\n",
              "    }\n",
              "\n",
              "    [theme=dark] .colab-df-convert {\n",
              "      background-color: #3B4455;\n",
              "      fill: #D2E3FC;\n",
              "    }\n",
              "\n",
              "    [theme=dark] .colab-df-convert:hover {\n",
              "      background-color: #434B5C;\n",
              "      box-shadow: 0px 1px 3px 1px rgba(0, 0, 0, 0.15);\n",
              "      filter: drop-shadow(0px 1px 2px rgba(0, 0, 0, 0.3));\n",
              "      fill: #FFFFFF;\n",
              "    }\n",
              "  </style>\n",
              "\n",
              "      <script>\n",
              "        const buttonEl =\n",
              "          document.querySelector('#df-ca4c9e70-25c9-4a44-a527-061af046b8f6 button.colab-df-convert');\n",
              "        buttonEl.style.display =\n",
              "          google.colab.kernel.accessAllowed ? 'block' : 'none';\n",
              "\n",
              "        async function convertToInteractive(key) {\n",
              "          const element = document.querySelector('#df-ca4c9e70-25c9-4a44-a527-061af046b8f6');\n",
              "          const dataTable =\n",
              "            await google.colab.kernel.invokeFunction('convertToInteractive',\n",
              "                                                     [key], {});\n",
              "          if (!dataTable) return;\n",
              "\n",
              "          const docLinkHtml = 'Like what you see? Visit the ' +\n",
              "            '<a target=\"_blank\" href=https://colab.research.google.com/notebooks/data_table.ipynb>data table notebook</a>'\n",
              "            + ' to learn more about interactive tables.';\n",
              "          element.innerHTML = '';\n",
              "          dataTable['output_type'] = 'display_data';\n",
              "          await google.colab.output.renderOutput(dataTable, element);\n",
              "          const docLink = document.createElement('div');\n",
              "          docLink.innerHTML = docLinkHtml;\n",
              "          element.appendChild(docLink);\n",
              "        }\n",
              "      </script>\n",
              "    </div>\n",
              "  </div>\n",
              "  "
            ]
          },
          "metadata": {},
          "execution_count": 6
        }
      ]
    },
    {
      "cell_type": "code",
      "source": [
        "pump_data.info()"
      ],
      "metadata": {
        "id": "wrOLbqliLIx3",
        "colab": {
          "base_uri": "https://localhost:8080/"
        },
        "outputId": "205a7ef5-9f84-4935-b6fc-c4e0aff6d83e"
      },
      "execution_count": null,
      "outputs": [
        {
          "output_type": "stream",
          "name": "stdout",
          "text": [
            "<class 'pandas.core.frame.DataFrame'>\n",
            "RangeIndex: 44550 entries, 0 to 44549\n",
            "Data columns (total 41 columns):\n",
            " #   Column                 Non-Null Count  Dtype  \n",
            "---  ------                 --------------  -----  \n",
            " 0   id                     44550 non-null  int64  \n",
            " 1   amount_tsh             44550 non-null  float64\n",
            " 2   date_recorded          44550 non-null  object \n",
            " 3   funder                 41757 non-null  object \n",
            " 4   gps_height             44550 non-null  int64  \n",
            " 5   installer              41743 non-null  object \n",
            " 6   longitude              44550 non-null  float64\n",
            " 7   latitude               44550 non-null  float64\n",
            " 8   wpt_name               44550 non-null  object \n",
            " 9   num_private            44550 non-null  int64  \n",
            " 10  basin                  44550 non-null  object \n",
            " 11  subvillage             44263 non-null  object \n",
            " 12  region                 44550 non-null  object \n",
            " 13  region_code            44550 non-null  int64  \n",
            " 14  district_code          44550 non-null  int64  \n",
            " 15  lga                    44550 non-null  object \n",
            " 16  ward                   44550 non-null  object \n",
            " 17  population             44550 non-null  int64  \n",
            " 18  public_meeting         42059 non-null  object \n",
            " 19  recorded_by            44550 non-null  object \n",
            " 20  scheme_management      41718 non-null  object \n",
            " 21  scheme_name            23440 non-null  object \n",
            " 22  permit                 42214 non-null  object \n",
            " 23  construction_year      44550 non-null  int64  \n",
            " 24  extraction_type        44550 non-null  object \n",
            " 25  extraction_type_group  44550 non-null  object \n",
            " 26  extraction_type_class  44550 non-null  object \n",
            " 27  management             44550 non-null  object \n",
            " 28  management_group       44550 non-null  object \n",
            " 29  payment                44550 non-null  object \n",
            " 30  payment_type           44550 non-null  object \n",
            " 31  water_quality          44550 non-null  object \n",
            " 32  quality_group          44550 non-null  object \n",
            " 33  quantity               44550 non-null  object \n",
            " 34  quantity_group         44550 non-null  object \n",
            " 35  source                 44550 non-null  object \n",
            " 36  source_type            44550 non-null  object \n",
            " 37  source_class           44550 non-null  object \n",
            " 38  waterpoint_type        44550 non-null  object \n",
            " 39  waterpoint_type_group  44550 non-null  object \n",
            " 40  status_group           44550 non-null  object \n",
            "dtypes: float64(3), int64(7), object(31)\n",
            "memory usage: 13.9+ MB\n"
          ]
        }
      ]
    },
    {
      "cell_type": "code",
      "source": [
        "#Get more information about data features\n",
        "pump_data.describe().transpose()"
      ],
      "metadata": {
        "id": "7LLyureqJLce",
        "colab": {
          "base_uri": "https://localhost:8080/",
          "height": 363
        },
        "outputId": "2e5d3299-afb2-408c-866b-ce793b50671c"
      },
      "execution_count": null,
      "outputs": [
        {
          "output_type": "execute_result",
          "data": {
            "text/plain": [
              "                     count          mean           std        min  \\\n",
              "id                 44550.0  37192.623681  21399.827198   1.000000   \n",
              "amount_tsh         44550.0    307.623224   2402.742799   0.000000   \n",
              "gps_height         44550.0    665.490774    693.653179 -90.000000   \n",
              "longitude          44550.0     34.084084      6.555924   0.000000   \n",
              "latitude           44550.0     -5.721980      2.948828 -11.648378   \n",
              "num_private        44550.0      0.521549     13.835868   0.000000   \n",
              "region_code        44550.0     15.338563     17.672144   1.000000   \n",
              "district_code      44550.0      5.678967      9.724205   0.000000   \n",
              "population         44550.0    179.112750    478.995645   0.000000   \n",
              "construction_year  44550.0   1295.782155    953.183961   0.000000   \n",
              "\n",
              "                            25%           50%           75%           max  \n",
              "id                 18723.250000  37183.500000  55647.500000  7.424700e+04  \n",
              "amount_tsh             0.000000      0.000000     20.000000  1.700000e+05  \n",
              "gps_height             0.000000    363.000000   1318.000000  2.770000e+03  \n",
              "longitude             33.105585     34.905600     37.176859  4.034519e+01  \n",
              "latitude              -8.574241     -5.045611     -3.327795 -2.000000e-08  \n",
              "num_private            0.000000      0.000000      0.000000  1.776000e+03  \n",
              "region_code            5.000000     12.000000     17.000000  9.900000e+01  \n",
              "district_code          2.000000      3.000000      5.000000  8.000000e+01  \n",
              "population             0.000000     25.000000    210.000000  3.050000e+04  \n",
              "construction_year      0.000000   1985.000000   2004.000000  2.013000e+03  "
            ],
            "text/html": [
              "\n",
              "  <div id=\"df-447d6bc4-227a-4d63-a007-30eb036b4cf2\">\n",
              "    <div class=\"colab-df-container\">\n",
              "      <div>\n",
              "<style scoped>\n",
              "    .dataframe tbody tr th:only-of-type {\n",
              "        vertical-align: middle;\n",
              "    }\n",
              "\n",
              "    .dataframe tbody tr th {\n",
              "        vertical-align: top;\n",
              "    }\n",
              "\n",
              "    .dataframe thead th {\n",
              "        text-align: right;\n",
              "    }\n",
              "</style>\n",
              "<table border=\"1\" class=\"dataframe\">\n",
              "  <thead>\n",
              "    <tr style=\"text-align: right;\">\n",
              "      <th></th>\n",
              "      <th>count</th>\n",
              "      <th>mean</th>\n",
              "      <th>std</th>\n",
              "      <th>min</th>\n",
              "      <th>25%</th>\n",
              "      <th>50%</th>\n",
              "      <th>75%</th>\n",
              "      <th>max</th>\n",
              "    </tr>\n",
              "  </thead>\n",
              "  <tbody>\n",
              "    <tr>\n",
              "      <th>id</th>\n",
              "      <td>44550.0</td>\n",
              "      <td>37192.623681</td>\n",
              "      <td>21399.827198</td>\n",
              "      <td>1.000000</td>\n",
              "      <td>18723.250000</td>\n",
              "      <td>37183.500000</td>\n",
              "      <td>55647.500000</td>\n",
              "      <td>7.424700e+04</td>\n",
              "    </tr>\n",
              "    <tr>\n",
              "      <th>amount_tsh</th>\n",
              "      <td>44550.0</td>\n",
              "      <td>307.623224</td>\n",
              "      <td>2402.742799</td>\n",
              "      <td>0.000000</td>\n",
              "      <td>0.000000</td>\n",
              "      <td>0.000000</td>\n",
              "      <td>20.000000</td>\n",
              "      <td>1.700000e+05</td>\n",
              "    </tr>\n",
              "    <tr>\n",
              "      <th>gps_height</th>\n",
              "      <td>44550.0</td>\n",
              "      <td>665.490774</td>\n",
              "      <td>693.653179</td>\n",
              "      <td>-90.000000</td>\n",
              "      <td>0.000000</td>\n",
              "      <td>363.000000</td>\n",
              "      <td>1318.000000</td>\n",
              "      <td>2.770000e+03</td>\n",
              "    </tr>\n",
              "    <tr>\n",
              "      <th>longitude</th>\n",
              "      <td>44550.0</td>\n",
              "      <td>34.084084</td>\n",
              "      <td>6.555924</td>\n",
              "      <td>0.000000</td>\n",
              "      <td>33.105585</td>\n",
              "      <td>34.905600</td>\n",
              "      <td>37.176859</td>\n",
              "      <td>4.034519e+01</td>\n",
              "    </tr>\n",
              "    <tr>\n",
              "      <th>latitude</th>\n",
              "      <td>44550.0</td>\n",
              "      <td>-5.721980</td>\n",
              "      <td>2.948828</td>\n",
              "      <td>-11.648378</td>\n",
              "      <td>-8.574241</td>\n",
              "      <td>-5.045611</td>\n",
              "      <td>-3.327795</td>\n",
              "      <td>-2.000000e-08</td>\n",
              "    </tr>\n",
              "    <tr>\n",
              "      <th>num_private</th>\n",
              "      <td>44550.0</td>\n",
              "      <td>0.521549</td>\n",
              "      <td>13.835868</td>\n",
              "      <td>0.000000</td>\n",
              "      <td>0.000000</td>\n",
              "      <td>0.000000</td>\n",
              "      <td>0.000000</td>\n",
              "      <td>1.776000e+03</td>\n",
              "    </tr>\n",
              "    <tr>\n",
              "      <th>region_code</th>\n",
              "      <td>44550.0</td>\n",
              "      <td>15.338563</td>\n",
              "      <td>17.672144</td>\n",
              "      <td>1.000000</td>\n",
              "      <td>5.000000</td>\n",
              "      <td>12.000000</td>\n",
              "      <td>17.000000</td>\n",
              "      <td>9.900000e+01</td>\n",
              "    </tr>\n",
              "    <tr>\n",
              "      <th>district_code</th>\n",
              "      <td>44550.0</td>\n",
              "      <td>5.678967</td>\n",
              "      <td>9.724205</td>\n",
              "      <td>0.000000</td>\n",
              "      <td>2.000000</td>\n",
              "      <td>3.000000</td>\n",
              "      <td>5.000000</td>\n",
              "      <td>8.000000e+01</td>\n",
              "    </tr>\n",
              "    <tr>\n",
              "      <th>population</th>\n",
              "      <td>44550.0</td>\n",
              "      <td>179.112750</td>\n",
              "      <td>478.995645</td>\n",
              "      <td>0.000000</td>\n",
              "      <td>0.000000</td>\n",
              "      <td>25.000000</td>\n",
              "      <td>210.000000</td>\n",
              "      <td>3.050000e+04</td>\n",
              "    </tr>\n",
              "    <tr>\n",
              "      <th>construction_year</th>\n",
              "      <td>44550.0</td>\n",
              "      <td>1295.782155</td>\n",
              "      <td>953.183961</td>\n",
              "      <td>0.000000</td>\n",
              "      <td>0.000000</td>\n",
              "      <td>1985.000000</td>\n",
              "      <td>2004.000000</td>\n",
              "      <td>2.013000e+03</td>\n",
              "    </tr>\n",
              "  </tbody>\n",
              "</table>\n",
              "</div>\n",
              "      <button class=\"colab-df-convert\" onclick=\"convertToInteractive('df-447d6bc4-227a-4d63-a007-30eb036b4cf2')\"\n",
              "              title=\"Convert this dataframe to an interactive table.\"\n",
              "              style=\"display:none;\">\n",
              "        \n",
              "  <svg xmlns=\"http://www.w3.org/2000/svg\" height=\"24px\"viewBox=\"0 0 24 24\"\n",
              "       width=\"24px\">\n",
              "    <path d=\"M0 0h24v24H0V0z\" fill=\"none\"/>\n",
              "    <path d=\"M18.56 5.44l.94 2.06.94-2.06 2.06-.94-2.06-.94-.94-2.06-.94 2.06-2.06.94zm-11 1L8.5 8.5l.94-2.06 2.06-.94-2.06-.94L8.5 2.5l-.94 2.06-2.06.94zm10 10l.94 2.06.94-2.06 2.06-.94-2.06-.94-.94-2.06-.94 2.06-2.06.94z\"/><path d=\"M17.41 7.96l-1.37-1.37c-.4-.4-.92-.59-1.43-.59-.52 0-1.04.2-1.43.59L10.3 9.45l-7.72 7.72c-.78.78-.78 2.05 0 2.83L4 21.41c.39.39.9.59 1.41.59.51 0 1.02-.2 1.41-.59l7.78-7.78 2.81-2.81c.8-.78.8-2.07 0-2.86zM5.41 20L4 18.59l7.72-7.72 1.47 1.35L5.41 20z\"/>\n",
              "  </svg>\n",
              "      </button>\n",
              "      \n",
              "  <style>\n",
              "    .colab-df-container {\n",
              "      display:flex;\n",
              "      flex-wrap:wrap;\n",
              "      gap: 12px;\n",
              "    }\n",
              "\n",
              "    .colab-df-convert {\n",
              "      background-color: #E8F0FE;\n",
              "      border: none;\n",
              "      border-radius: 50%;\n",
              "      cursor: pointer;\n",
              "      display: none;\n",
              "      fill: #1967D2;\n",
              "      height: 32px;\n",
              "      padding: 0 0 0 0;\n",
              "      width: 32px;\n",
              "    }\n",
              "\n",
              "    .colab-df-convert:hover {\n",
              "      background-color: #E2EBFA;\n",
              "      box-shadow: 0px 1px 2px rgba(60, 64, 67, 0.3), 0px 1px 3px 1px rgba(60, 64, 67, 0.15);\n",
              "      fill: #174EA6;\n",
              "    }\n",
              "\n",
              "    [theme=dark] .colab-df-convert {\n",
              "      background-color: #3B4455;\n",
              "      fill: #D2E3FC;\n",
              "    }\n",
              "\n",
              "    [theme=dark] .colab-df-convert:hover {\n",
              "      background-color: #434B5C;\n",
              "      box-shadow: 0px 1px 3px 1px rgba(0, 0, 0, 0.15);\n",
              "      filter: drop-shadow(0px 1px 2px rgba(0, 0, 0, 0.3));\n",
              "      fill: #FFFFFF;\n",
              "    }\n",
              "  </style>\n",
              "\n",
              "      <script>\n",
              "        const buttonEl =\n",
              "          document.querySelector('#df-447d6bc4-227a-4d63-a007-30eb036b4cf2 button.colab-df-convert');\n",
              "        buttonEl.style.display =\n",
              "          google.colab.kernel.accessAllowed ? 'block' : 'none';\n",
              "\n",
              "        async function convertToInteractive(key) {\n",
              "          const element = document.querySelector('#df-447d6bc4-227a-4d63-a007-30eb036b4cf2');\n",
              "          const dataTable =\n",
              "            await google.colab.kernel.invokeFunction('convertToInteractive',\n",
              "                                                     [key], {});\n",
              "          if (!dataTable) return;\n",
              "\n",
              "          const docLinkHtml = 'Like what you see? Visit the ' +\n",
              "            '<a target=\"_blank\" href=https://colab.research.google.com/notebooks/data_table.ipynb>data table notebook</a>'\n",
              "            + ' to learn more about interactive tables.';\n",
              "          element.innerHTML = '';\n",
              "          dataTable['output_type'] = 'display_data';\n",
              "          await google.colab.output.renderOutput(dataTable, element);\n",
              "          const docLink = document.createElement('div');\n",
              "          docLink.innerHTML = docLinkHtml;\n",
              "          element.appendChild(docLink);\n",
              "        }\n",
              "      </script>\n",
              "    </div>\n",
              "  </div>\n",
              "  "
            ]
          },
          "metadata": {},
          "execution_count": 8
        }
      ]
    },
    {
      "cell_type": "code",
      "source": [
        "print(pump_data.value_counts())"
      ],
      "metadata": {
        "id": "PI4Y2WfFtIUV",
        "colab": {
          "base_uri": "https://localhost:8080/"
        },
        "outputId": "d7accd81-784c-421c-8fd1-2e14445ed06b"
      },
      "execution_count": null,
      "outputs": [
        {
          "output_type": "stream",
          "name": "stdout",
          "text": [
            "id     amount_tsh  date_recorded  funder        gps_height  installer     longitude  latitude    wpt_name           num_private  basin                    subvillage  region     region_code  district_code  lga           ward       population  public_meeting  recorded_by              scheme_management  scheme_name                  permit  construction_year  extraction_type  extraction_type_group  extraction_type_class  management   management_group  payment         payment_type  water_quality  quality_group  quantity      quantity_group  source                source_type           source_class  waterpoint_type              waterpoint_type_group  status_group  \n",
            "2      0.0         2011-03-27     Lvia          0           LVIA          36.115056  -6.279268   Bombani            0            Wami / Ruvu              Songambele  Dodoma     1            4              Chamwino      Msamalo    0           True            GeoData Consultants Ltd  VWC                Mgun                         True    0                  mono             mono                   motorpump              vwc          user-group        pay per bucket  per bucket    soft           good           insufficient  insufficient    machine dbh           borehole              groundwater   communal standpipe multiple  communal standpipe     functional        1\n",
            "49348  0.0         2012-10-10     Rwssp         0           WEDECO        34.253486  -3.211190   Mamamlezi          0            Internal                 Bombani     Shinyanga  17           6              Meatu         Mwandoya   0           True            GeoData Consultants Ltd  WUG                None                         True    0                  nira/tanira      nira/tanira            handpump               wug          user-group        never pay       never pay     soft           good           insufficient  insufficient    shallow well          shallow well          groundwater   hand pump                    hand pump              functional        1\n",
            "49456  600.0       2013-02-12     Danida        535         DANIDA        37.242103  -10.953024  Kwa John Walka     0            Ruvuma / Southern Coast  Angalia     Ruvuma     10           1              Tunduru       Nandembo   1           True            GeoData Consultants Ltd  VWC                Nandembo Water Supply        False   1992               gravity          gravity                gravity                vwc          user-group        pay annually    annually      soft           good           enough        enough          river                 river/lake            surface       communal standpipe           communal standpipe     functional        1\n",
            "49454  0.0         2013-02-26     Kinapa        1420        Water board   37.064240  -5.579218   Shuleni            0            Wami / Ruvu              Mtulu       Manyara    21           5              Kiteto        Lengatei   230         True            GeoData Consultants Ltd  VWC                KINAPA                       True    2006               gravity          gravity                gravity                vwc          user-group        never pay       never pay     soft           good           seasonal      seasonal        rainwater harvesting  rainwater harvesting  surface       communal standpipe           communal standpipe     non functional    1\n",
            "49449  500.0       2011-09-04     Unicef        1561        DWE           34.607784  -9.025278   Kwa Michael Kenda  0            Rufiji                   Dulamu      Iringa     11           4              Njombe        Usuka      45          True            GeoData Consultants Ltd  WUA                wanging'ombe water supply s  True    1978               gravity          gravity                gravity                wua          user-group        pay monthly     monthly       soft           good           enough        enough          river                 river/lake            surface       communal standpipe           communal standpipe     functional        1\n",
            "                                                                                                                                                                                                                                                                                                                                                                                                                                                                                                                                                                                                                                                                                             ..\n",
            "24808  0.0         2012-10-17     World Vision  0           World Vision  33.513538  -4.683600   Kwa Gululi         0            Internal                 Mwakunuha   Tabora     14           2              Igunga        Igoweko    0           True            GeoData Consultants Ltd  Water authority    ADP                          False   0                  other            other                  other                  vwc          user-group        never pay       never pay     soft           good           insufficient  insufficient    shallow well          shallow well          groundwater   other                        other                  non functional    1\n",
            "24807  250.0       2013-02-14     Oxfam         1418        OXFAM         30.106050  -4.369916   Anglican Church    0            Lake Tanganyika          Kamana      Kigoma     16           2              Kasulu        Munyegera  650         True            GeoData Consultants Ltd  Water authority    Mtobo                        True    1996               gravity          gravity                gravity                water board  user-group        pay monthly     monthly       soft           good           enough        enough          river                 river/lake            surface       communal standpipe           communal standpipe     non functional    1\n",
            "24800  0.0         2011-03-23     Water         0           Water         36.228492  -5.723475   Zahati             0            Wami / Ruvu              Kawawa      Dodoma     1            4              Chamwino      Dabalo     0           True            GeoData Consultants Ltd  VWC                Chiw                         True    0                  mono             mono                   motorpump              vwc          user-group        pay per bucket  per bucket    soft           good           insufficient  insufficient    machine dbh           borehole              groundwater   communal standpipe multiple  communal standpipe     functional        1\n",
            "24793  0.0         2011-04-14     Water         0           DWE           35.802572  -4.548854   Changali           0            Internal                 Maloya      Dodoma     1            1              Kondoa        Masange    0           True            GeoData Consultants Ltd  VWC                Kand                         False   0                  gravity          gravity                gravity                vwc          user-group        never pay       never pay     soft           good           enough        enough          spring                spring                groundwater   communal standpipe           communal standpipe     non functional    1\n",
            "74247  50.0        2013-02-16     Mission       965         DWE           35.432998  -10.639270  Kwa Mapunda        0            Ruvuma / Southern Coast  Mpakani     Ruvuma     10           2              Songea Rural  Maposeni   900         True            GeoData Consultants Ltd  VWC                Mradi wa maji wa peramiho    True    2009               other            other                  other                  vwc          user-group        pay per bucket  per bucket    soft           good           dry           dry             river                 river/lake            surface       communal standpipe           communal standpipe     non functional    1\n",
            "Length: 20852, dtype: int64\n"
          ]
        }
      ]
    },
    {
      "cell_type": "markdown",
      "source": [
        "# Feature Engineering (Data preprocessing)\n"
      ],
      "metadata": {
        "id": "Pfbqb6DuLcdm"
      }
    },
    {
      "cell_type": "markdown",
      "source": [
        "## Feature Selection\n",
        "After exploring the dataset, and upon looking further into each feature, we can reduce the complexity and size of our data by choosing the relevant features carefully. This part is broken down into several steps\n",
        "1. Dropping Similar columns\n",
        "2. Dropping irrelevant columns\n",
        "3. Dropping columns with High Cardinality"
      ],
      "metadata": {
        "id": "42ky3zTYFyzF"
      }
    },
    {
      "cell_type": "markdown",
      "source": [
        "### 1. Selecting features among Similar columns"
      ],
      "metadata": {
        "id": "VaI6Zs-nEBNF"
      }
    },
    {
      "cell_type": "markdown",
      "source": [
        "Some features hold similar information with other features, so we dropped the unnecessary features and retained the relevant ones.\n",
        "Similar features include the following (we retained the bolded columns and dropped the others):\n",
        "* scheme_management, scheme_name, ***management***, management_group\n",
        "* ***quantity***, quantity_group\n",
        "* source_class, source_type, ***source***\n",
        "* ***water_quality***, quality_group\n",
        "* ***payment***, payment_type\n",
        "* extraction_type, ***extraction_type_group***, extraction_type_class\n",
        "* ***waterpoint_type***, waterpoint_type_group, wpt_name\n",
        "* ***region***, region_code\n",
        "* subvillage, ***distric_code***\n",
        "\n",
        "\n"
      ],
      "metadata": {
        "id": "oEO90KYyszma"
      }
    },
    {
      "cell_type": "code",
      "source": [
        "# insert code here on comparing value_counts of every similar group,\n",
        "# then we will choose the one with the lowest count of categories, and drop the others\n",
        "#print(pump_data['scheme_management', 'scheme_name', 'management', 'management_group'].value_counts())"
      ],
      "metadata": {
        "id": "MYekZIrHE4jj"
      },
      "execution_count": null,
      "outputs": []
    },
    {
      "cell_type": "code",
      "source": [
        "pump_data = pump_data.drop(['management_group','scheme_management','quantity_group','source_class','source_type','quality_group',\n",
        "                'payment_type','extraction_type_class','extraction_type', 'wpt_name','scheme_name','region_code', 'waterpoint_type_group','subvillage'],axis=1)\n"
      ],
      "metadata": {
        "id": "ytJGXRmxF2vm"
      },
      "execution_count": null,
      "outputs": []
    },
    {
      "cell_type": "markdown",
      "source": [
        "### 2. Dropping irrelevant/uninformative features\n",
        "\n",
        "By exploring the columns deeper, more features are seen to be irrelevant and does not add any value to our dataset, so these features are dropped. These columns that are intuitively found to be not helpful to the prediction are identified below:\n",
        "* id\n",
        "* recorded_by\n",
        "* date_recorded\n",
        "* num_private\n"
      ],
      "metadata": {
        "id": "oLBy_jEcPIH4"
      }
    },
    {
      "cell_type": "code",
      "source": [
        "# determine how many 0 values each column has\n",
        "zero_rows_count = pump_data[pump_data == 0].count()\n",
        "\n",
        "# Print the results\n",
        "print(zero_rows_count)"
      ],
      "metadata": {
        "id": "57wDw15o0C7A",
        "colab": {
          "base_uri": "https://localhost:8080/"
        },
        "outputId": "8bca29f6-dd65-4f42-c02c-aa41407621e4"
      },
      "execution_count": null,
      "outputs": [
        {
          "output_type": "stream",
          "name": "stdout",
          "text": [
            "id                           0\n",
            "amount_tsh               31231\n",
            "date_recorded                0\n",
            "funder                       0\n",
            "gps_height               15441\n",
            "installer                    0\n",
            "longitude                 1354\n",
            "latitude                     0\n",
            "num_private              43964\n",
            "basin                        0\n",
            "region                       0\n",
            "district_code               18\n",
            "lga                          0\n",
            "ward                         0\n",
            "population               16150\n",
            "public_meeting            3847\n",
            "recorded_by                  0\n",
            "permit                   13157\n",
            "construction_year        15641\n",
            "extraction_type_group        0\n",
            "management                   0\n",
            "payment                      0\n",
            "water_quality                0\n",
            "quantity                     0\n",
            "source                       0\n",
            "waterpoint_type              0\n",
            "status_group                 0\n",
            "dtype: int64\n"
          ]
        }
      ]
    },
    {
      "cell_type": "code",
      "source": [
        "pump_data['recorded_by'].value_counts()"
      ],
      "metadata": {
        "id": "zgfBuOoZO240",
        "colab": {
          "base_uri": "https://localhost:8080/"
        },
        "outputId": "faaee9bd-f98f-4328-a579-70d56dd11735"
      },
      "execution_count": null,
      "outputs": [
        {
          "output_type": "execute_result",
          "data": {
            "text/plain": [
              "GeoData Consultants Ltd    44550\n",
              "Name: recorded_by, dtype: int64"
            ]
          },
          "metadata": {},
          "execution_count": 13
        }
      ]
    },
    {
      "cell_type": "code",
      "source": [
        "# The \"recorded_by\" contains only one value, hence does not give additional information to the dataset. so we drop it\n",
        "pump_data.drop(columns=['recorded_by'],inplace=True )\n",
        "\n",
        "# The 'id' feature is unique to every pump and doesn't provide any info about the functionality of the pump"
      ],
      "metadata": {
        "id": "W0rOapkFO8zE"
      },
      "execution_count": null,
      "outputs": []
    },
    {
      "cell_type": "code",
      "source": [
        "pump_data.drop(columns=['date_recorded'],inplace=True )\n",
        "pump_data.drop(columns=['id'],inplace=True )"
      ],
      "metadata": {
        "id": "aw_jye2XRybY"
      },
      "execution_count": null,
      "outputs": []
    },
    {
      "cell_type": "code",
      "source": [
        "#This column has no information about it and also mostly have zero values. So, we drop this also.\n",
        "pump_data.drop(columns=['num_private'],inplace=True )"
      ],
      "metadata": {
        "id": "Li-lpwmcRuCh"
      },
      "execution_count": null,
      "outputs": []
    },
    {
      "cell_type": "markdown",
      "source": [
        "### 3. Dropping Features with High Cardinality\n",
        "\n",
        "A categorical feature is said to have High Cardinality if it has a large number of unique values (in this case, large is considered columns with greater than 150 unique categories). It also expresses huge variability of values in a discrete feature, which means encoding that categorical column would make the dataset extremely complicated.\n"
      ],
      "metadata": {
        "id": "Uj4TcF3FSM9U"
      }
    },
    {
      "cell_type": "code",
      "source": [
        "# define a function that checks for cardinality and returns the features with high number of categories\n",
        "\n",
        "def cardinality_check(n, df):\n",
        "\n",
        "  feature_list = []\n",
        "\n",
        "  card_value = []\n",
        "\n",
        "  for _ in range(len(df.columns)):\n",
        "    if len(df[df.columns[_]].value_counts()) > n:\n",
        "\n",
        "      feature_list.append(df.columns[_])\n",
        "\n",
        "      card_value.append(len(df[df.columns[_]].value_counts()))\n",
        "\n",
        "\n",
        "  feature_dict = dict(zip(feature_list, card_value))\n",
        "\n",
        "  return feature_dict"
      ],
      "metadata": {
        "id": "2z-LLlCsonTz"
      },
      "execution_count": null,
      "outputs": []
    },
    {
      "cell_type": "code",
      "source": [
        "high_card_dict = cardinality_check(150, pump_data)\n",
        "high_card_dict"
      ],
      "metadata": {
        "id": "2q3gJp8SorBX",
        "colab": {
          "base_uri": "https://localhost:8080/"
        },
        "outputId": "46b34c64-e1b5-434a-8051-1455f3cd1f72"
      },
      "execution_count": null,
      "outputs": [
        {
          "output_type": "execute_result",
          "data": {
            "text/plain": [
              "{'funder': 1651,\n",
              " 'gps_height': 2396,\n",
              " 'installer': 1854,\n",
              " 'longitude': 43155,\n",
              " 'latitude': 43155,\n",
              " 'ward': 2080,\n",
              " 'population': 956}"
            ]
          },
          "metadata": {},
          "execution_count": 18
        }
      ]
    },
    {
      "cell_type": "code",
      "source": [
        "# drop all high cardinality features except latitude and longitude and population since they are numerical\n",
        "pump_data.drop(columns=['funder'],inplace=True)\n",
        "pump_data.drop(columns=['ward'],inplace=True)\n",
        "pump_data.drop(columns=['installer'],inplace=True)\n",
        "pump_data.drop(columns=['gps_height'],inplace=True)   # 34% of gps_height = 0 so we can drop it as well"
      ],
      "metadata": {
        "id": "-5i_SWS8pBcm"
      },
      "execution_count": null,
      "outputs": []
    },
    {
      "cell_type": "markdown",
      "source": [
        "## Cleaning of Data\n",
        "\n",
        "The remaining features are explored and checked for null values. They are then filled appropriately."
      ],
      "metadata": {
        "id": "1Xu6lWuZU5YZ"
      }
    },
    {
      "cell_type": "code",
      "source": [
        "pump_data.head()"
      ],
      "metadata": {
        "colab": {
          "base_uri": "https://localhost:8080/",
          "height": 357
        },
        "id": "LgnoWt37VkCY",
        "outputId": "fd858150-ff17-49ff-b10c-ea9594f3060f"
      },
      "execution_count": null,
      "outputs": [
        {
          "output_type": "execute_result",
          "data": {
            "text/plain": [
              "   amount_tsh  longitude  latitude       basin       region  district_code  \\\n",
              "0         7.0  37.228664 -3.256505     Pangani  Kilimanjaro              5   \n",
              "1         0.0  34.615481 -9.972601  Lake Nyasa       Iringa              5   \n",
              "2         0.0  36.658778 -3.321529     Pangani       Arusha              2   \n",
              "3         0.0  33.628025 -8.860795      Rufiji        Mbeya              2   \n",
              "4       300.0  37.655509 -3.669777     Pangani  Kilimanjaro              2   \n",
              "\n",
              "            lga  population public_meeting permit  construction_year  \\\n",
              "0           Hai          90           True   True               2008   \n",
              "1        Ludewa          70          False  False               1984   \n",
              "2  Arusha Rural         150           True   True               2002   \n",
              "3   Mbeya Rural           0           True   True                  0   \n",
              "4        Mwanga          34           True  False               2007   \n",
              "\n",
              "  extraction_type_group        management         payment water_quality  \\\n",
              "0               gravity       water board  pay per bucket          soft   \n",
              "1               gravity  private operator       never pay          soft   \n",
              "2               gravity               vwc       never pay          soft   \n",
              "3               gravity               wug    pay annually          soft   \n",
              "4               gravity               vwc     pay monthly          soft   \n",
              "\n",
              "       quantity  source     waterpoint_type    status_group  \n",
              "0        enough  spring  communal standpipe      functional  \n",
              "1        enough  spring  communal standpipe      functional  \n",
              "2  insufficient  spring  communal standpipe  non functional  \n",
              "3  insufficient   river  communal standpipe      functional  \n",
              "4  insufficient  spring  communal standpipe      functional  "
            ],
            "text/html": [
              "\n",
              "  <div id=\"df-f49e4bad-e42f-4cec-a510-7db8baefd882\">\n",
              "    <div class=\"colab-df-container\">\n",
              "      <div>\n",
              "<style scoped>\n",
              "    .dataframe tbody tr th:only-of-type {\n",
              "        vertical-align: middle;\n",
              "    }\n",
              "\n",
              "    .dataframe tbody tr th {\n",
              "        vertical-align: top;\n",
              "    }\n",
              "\n",
              "    .dataframe thead th {\n",
              "        text-align: right;\n",
              "    }\n",
              "</style>\n",
              "<table border=\"1\" class=\"dataframe\">\n",
              "  <thead>\n",
              "    <tr style=\"text-align: right;\">\n",
              "      <th></th>\n",
              "      <th>amount_tsh</th>\n",
              "      <th>longitude</th>\n",
              "      <th>latitude</th>\n",
              "      <th>basin</th>\n",
              "      <th>region</th>\n",
              "      <th>district_code</th>\n",
              "      <th>lga</th>\n",
              "      <th>population</th>\n",
              "      <th>public_meeting</th>\n",
              "      <th>permit</th>\n",
              "      <th>construction_year</th>\n",
              "      <th>extraction_type_group</th>\n",
              "      <th>management</th>\n",
              "      <th>payment</th>\n",
              "      <th>water_quality</th>\n",
              "      <th>quantity</th>\n",
              "      <th>source</th>\n",
              "      <th>waterpoint_type</th>\n",
              "      <th>status_group</th>\n",
              "    </tr>\n",
              "  </thead>\n",
              "  <tbody>\n",
              "    <tr>\n",
              "      <th>0</th>\n",
              "      <td>7.0</td>\n",
              "      <td>37.228664</td>\n",
              "      <td>-3.256505</td>\n",
              "      <td>Pangani</td>\n",
              "      <td>Kilimanjaro</td>\n",
              "      <td>5</td>\n",
              "      <td>Hai</td>\n",
              "      <td>90</td>\n",
              "      <td>True</td>\n",
              "      <td>True</td>\n",
              "      <td>2008</td>\n",
              "      <td>gravity</td>\n",
              "      <td>water board</td>\n",
              "      <td>pay per bucket</td>\n",
              "      <td>soft</td>\n",
              "      <td>enough</td>\n",
              "      <td>spring</td>\n",
              "      <td>communal standpipe</td>\n",
              "      <td>functional</td>\n",
              "    </tr>\n",
              "    <tr>\n",
              "      <th>1</th>\n",
              "      <td>0.0</td>\n",
              "      <td>34.615481</td>\n",
              "      <td>-9.972601</td>\n",
              "      <td>Lake Nyasa</td>\n",
              "      <td>Iringa</td>\n",
              "      <td>5</td>\n",
              "      <td>Ludewa</td>\n",
              "      <td>70</td>\n",
              "      <td>False</td>\n",
              "      <td>False</td>\n",
              "      <td>1984</td>\n",
              "      <td>gravity</td>\n",
              "      <td>private operator</td>\n",
              "      <td>never pay</td>\n",
              "      <td>soft</td>\n",
              "      <td>enough</td>\n",
              "      <td>spring</td>\n",
              "      <td>communal standpipe</td>\n",
              "      <td>functional</td>\n",
              "    </tr>\n",
              "    <tr>\n",
              "      <th>2</th>\n",
              "      <td>0.0</td>\n",
              "      <td>36.658778</td>\n",
              "      <td>-3.321529</td>\n",
              "      <td>Pangani</td>\n",
              "      <td>Arusha</td>\n",
              "      <td>2</td>\n",
              "      <td>Arusha Rural</td>\n",
              "      <td>150</td>\n",
              "      <td>True</td>\n",
              "      <td>True</td>\n",
              "      <td>2002</td>\n",
              "      <td>gravity</td>\n",
              "      <td>vwc</td>\n",
              "      <td>never pay</td>\n",
              "      <td>soft</td>\n",
              "      <td>insufficient</td>\n",
              "      <td>spring</td>\n",
              "      <td>communal standpipe</td>\n",
              "      <td>non functional</td>\n",
              "    </tr>\n",
              "    <tr>\n",
              "      <th>3</th>\n",
              "      <td>0.0</td>\n",
              "      <td>33.628025</td>\n",
              "      <td>-8.860795</td>\n",
              "      <td>Rufiji</td>\n",
              "      <td>Mbeya</td>\n",
              "      <td>2</td>\n",
              "      <td>Mbeya Rural</td>\n",
              "      <td>0</td>\n",
              "      <td>True</td>\n",
              "      <td>True</td>\n",
              "      <td>0</td>\n",
              "      <td>gravity</td>\n",
              "      <td>wug</td>\n",
              "      <td>pay annually</td>\n",
              "      <td>soft</td>\n",
              "      <td>insufficient</td>\n",
              "      <td>river</td>\n",
              "      <td>communal standpipe</td>\n",
              "      <td>functional</td>\n",
              "    </tr>\n",
              "    <tr>\n",
              "      <th>4</th>\n",
              "      <td>300.0</td>\n",
              "      <td>37.655509</td>\n",
              "      <td>-3.669777</td>\n",
              "      <td>Pangani</td>\n",
              "      <td>Kilimanjaro</td>\n",
              "      <td>2</td>\n",
              "      <td>Mwanga</td>\n",
              "      <td>34</td>\n",
              "      <td>True</td>\n",
              "      <td>False</td>\n",
              "      <td>2007</td>\n",
              "      <td>gravity</td>\n",
              "      <td>vwc</td>\n",
              "      <td>pay monthly</td>\n",
              "      <td>soft</td>\n",
              "      <td>insufficient</td>\n",
              "      <td>spring</td>\n",
              "      <td>communal standpipe</td>\n",
              "      <td>functional</td>\n",
              "    </tr>\n",
              "  </tbody>\n",
              "</table>\n",
              "</div>\n",
              "      <button class=\"colab-df-convert\" onclick=\"convertToInteractive('df-f49e4bad-e42f-4cec-a510-7db8baefd882')\"\n",
              "              title=\"Convert this dataframe to an interactive table.\"\n",
              "              style=\"display:none;\">\n",
              "        \n",
              "  <svg xmlns=\"http://www.w3.org/2000/svg\" height=\"24px\"viewBox=\"0 0 24 24\"\n",
              "       width=\"24px\">\n",
              "    <path d=\"M0 0h24v24H0V0z\" fill=\"none\"/>\n",
              "    <path d=\"M18.56 5.44l.94 2.06.94-2.06 2.06-.94-2.06-.94-.94-2.06-.94 2.06-2.06.94zm-11 1L8.5 8.5l.94-2.06 2.06-.94-2.06-.94L8.5 2.5l-.94 2.06-2.06.94zm10 10l.94 2.06.94-2.06 2.06-.94-2.06-.94-.94-2.06-.94 2.06-2.06.94z\"/><path d=\"M17.41 7.96l-1.37-1.37c-.4-.4-.92-.59-1.43-.59-.52 0-1.04.2-1.43.59L10.3 9.45l-7.72 7.72c-.78.78-.78 2.05 0 2.83L4 21.41c.39.39.9.59 1.41.59.51 0 1.02-.2 1.41-.59l7.78-7.78 2.81-2.81c.8-.78.8-2.07 0-2.86zM5.41 20L4 18.59l7.72-7.72 1.47 1.35L5.41 20z\"/>\n",
              "  </svg>\n",
              "      </button>\n",
              "      \n",
              "  <style>\n",
              "    .colab-df-container {\n",
              "      display:flex;\n",
              "      flex-wrap:wrap;\n",
              "      gap: 12px;\n",
              "    }\n",
              "\n",
              "    .colab-df-convert {\n",
              "      background-color: #E8F0FE;\n",
              "      border: none;\n",
              "      border-radius: 50%;\n",
              "      cursor: pointer;\n",
              "      display: none;\n",
              "      fill: #1967D2;\n",
              "      height: 32px;\n",
              "      padding: 0 0 0 0;\n",
              "      width: 32px;\n",
              "    }\n",
              "\n",
              "    .colab-df-convert:hover {\n",
              "      background-color: #E2EBFA;\n",
              "      box-shadow: 0px 1px 2px rgba(60, 64, 67, 0.3), 0px 1px 3px 1px rgba(60, 64, 67, 0.15);\n",
              "      fill: #174EA6;\n",
              "    }\n",
              "\n",
              "    [theme=dark] .colab-df-convert {\n",
              "      background-color: #3B4455;\n",
              "      fill: #D2E3FC;\n",
              "    }\n",
              "\n",
              "    [theme=dark] .colab-df-convert:hover {\n",
              "      background-color: #434B5C;\n",
              "      box-shadow: 0px 1px 3px 1px rgba(0, 0, 0, 0.15);\n",
              "      filter: drop-shadow(0px 1px 2px rgba(0, 0, 0, 0.3));\n",
              "      fill: #FFFFFF;\n",
              "    }\n",
              "  </style>\n",
              "\n",
              "      <script>\n",
              "        const buttonEl =\n",
              "          document.querySelector('#df-f49e4bad-e42f-4cec-a510-7db8baefd882 button.colab-df-convert');\n",
              "        buttonEl.style.display =\n",
              "          google.colab.kernel.accessAllowed ? 'block' : 'none';\n",
              "\n",
              "        async function convertToInteractive(key) {\n",
              "          const element = document.querySelector('#df-f49e4bad-e42f-4cec-a510-7db8baefd882');\n",
              "          const dataTable =\n",
              "            await google.colab.kernel.invokeFunction('convertToInteractive',\n",
              "                                                     [key], {});\n",
              "          if (!dataTable) return;\n",
              "\n",
              "          const docLinkHtml = 'Like what you see? Visit the ' +\n",
              "            '<a target=\"_blank\" href=https://colab.research.google.com/notebooks/data_table.ipynb>data table notebook</a>'\n",
              "            + ' to learn more about interactive tables.';\n",
              "          element.innerHTML = '';\n",
              "          dataTable['output_type'] = 'display_data';\n",
              "          await google.colab.output.renderOutput(dataTable, element);\n",
              "          const docLink = document.createElement('div');\n",
              "          docLink.innerHTML = docLinkHtml;\n",
              "          element.appendChild(docLink);\n",
              "        }\n",
              "      </script>\n",
              "    </div>\n",
              "  </div>\n",
              "  "
            ]
          },
          "metadata": {},
          "execution_count": 20
        }
      ]
    },
    {
      "cell_type": "markdown",
      "source": [
        "### Checking the unique values of each feature"
      ],
      "metadata": {
        "id": "50xVqL6nWYiF"
      }
    },
    {
      "cell_type": "code",
      "source": [
        "pump_data['amount_tsh'].value_counts()"
      ],
      "metadata": {
        "id": "eF5ysFKYQ4oe",
        "colab": {
          "base_uri": "https://localhost:8080/"
        },
        "outputId": "a3a2b560-893c-4283-a79c-742121e32447"
      },
      "execution_count": null,
      "outputs": [
        {
          "output_type": "execute_result",
          "data": {
            "text/plain": [
              "0.0        31231\n",
              "500.0       2321\n",
              "50.0        1881\n",
              "20.0        1117\n",
              "1000.0      1116\n",
              "           ...  \n",
              "26.0           1\n",
              "11000.0        1\n",
              "9.0            1\n",
              "6300.0         1\n",
              "900.0          1\n",
              "Name: amount_tsh, Length: 85, dtype: int64"
            ]
          },
          "metadata": {},
          "execution_count": 21
        }
      ]
    },
    {
      "cell_type": "code",
      "source": [
        "#70% of the \"amount_tsh\" column has no informative values as most are zero values, hence we drop it\n",
        "pump_data.drop(columns=['amount_tsh'],inplace=True )"
      ],
      "metadata": {
        "id": "lHOUeDZLRCQ3"
      },
      "execution_count": null,
      "outputs": []
    },
    {
      "cell_type": "markdown",
      "source": [
        "### Filling null or 0 values"
      ],
      "metadata": {
        "id": "hU6JjHbToN2E"
      }
    },
    {
      "cell_type": "code",
      "source": [
        "pump_data['public_meeting'].value_counts()"
      ],
      "metadata": {
        "id": "z4Jf574kS_rP",
        "colab": {
          "base_uri": "https://localhost:8080/"
        },
        "outputId": "44a7d988-45e3-467f-fb9b-8261b0d0ffb9"
      },
      "execution_count": null,
      "outputs": [
        {
          "output_type": "execute_result",
          "data": {
            "text/plain": [
              "True     38212\n",
              "False     3847\n",
              "Name: public_meeting, dtype: int64"
            ]
          },
          "metadata": {},
          "execution_count": 23
        }
      ]
    },
    {
      "cell_type": "code",
      "source": [
        "#We decided keep this column as it provide meaning information and also fill the null values with the moost common value in the coulmn which is \"True\"\n",
        "pump_data['public_meeting'].fillna(value=True,inplace=True)"
      ],
      "metadata": {
        "id": "Q7YoHCjxTDGt"
      },
      "execution_count": null,
      "outputs": []
    },
    {
      "cell_type": "code",
      "source": [
        "pump_data['permit'].value_counts()"
      ],
      "metadata": {
        "id": "8NcMV4PHTD3T",
        "colab": {
          "base_uri": "https://localhost:8080/"
        },
        "outputId": "d6947179-e0bd-4696-ef1c-0bba2663d3d9"
      },
      "execution_count": null,
      "outputs": [
        {
          "output_type": "execute_result",
          "data": {
            "text/plain": [
              "True     29057\n",
              "False    13157\n",
              "Name: permit, dtype: int64"
            ]
          },
          "metadata": {},
          "execution_count": 25
        }
      ]
    },
    {
      "cell_type": "code",
      "source": [
        "#Permit is also an important feature as it tells us if the water point is permitted or not. We also fill the null values with the most common value which is \"True\"\n",
        "pump_data['permit'].fillna(value=True, inplace=True)"
      ],
      "metadata": {
        "id": "Kor3_y0gTIFb"
      },
      "execution_count": null,
      "outputs": []
    },
    {
      "cell_type": "code",
      "source": [
        "#  pre-processing for population feature\n",
        "\n",
        "pop_mean = np.mean(pump_data['population']!=0)\n",
        "pump_data['population'] = pump_data['population'].replace(0, np.nan)\n",
        "pop_mean = np.mean(pump_data['population'])\n",
        "print('mean', pop_mean)\n",
        "pump_data['population'] = pump_data['population'].replace(np.nan, round(pop_mean))\n",
        "pump_data['population'].value_counts()\n",
        "\n"
      ],
      "metadata": {
        "id": "aKl6V4GQR5N6",
        "colab": {
          "base_uri": "https://localhost:8080/"
        },
        "outputId": "93f7f08b-29fe-4ba1-f207-fbe380d5ffa6"
      },
      "execution_count": null,
      "outputs": [
        {
          "output_type": "stream",
          "name": "stdout",
          "text": [
            "mean 280.96735915492957\n"
          ]
        },
        {
          "output_type": "execute_result",
          "data": {
            "text/plain": [
              "281.0     16153\n",
              "1.0        5280\n",
              "200.0      1429\n",
              "150.0      1427\n",
              "250.0      1259\n",
              "          ...  \n",
              "1032.0        1\n",
              "2813.0        1\n",
              "6854.0        1\n",
              "6300.0        1\n",
              "1745.0        1\n",
              "Name: population, Length: 955, dtype: int64"
            ]
          },
          "metadata": {},
          "execution_count": 27
        }
      ]
    },
    {
      "cell_type": "code",
      "source": [
        "# fill 0 values for construction year with mean for training dataset\n",
        "pump_data['construction_year'] = pump_data['construction_year'].replace(0, np.nan)\n",
        "mean = pump_data['construction_year'].mean()\n",
        "print(mean)\n",
        "avg_age = round(mean)\n",
        "pump_data['construction_year'] = pump_data['construction_year'].replace(np.nan, avg_age)\n",
        "\n",
        "pump_data['construction_year']\n",
        "pump_data.info()"
      ],
      "metadata": {
        "id": "MZyqrSoxtMJQ",
        "colab": {
          "base_uri": "https://localhost:8080/"
        },
        "outputId": "54277f9c-5cf7-41b8-ed8b-df31e86e07e2"
      },
      "execution_count": null,
      "outputs": [
        {
          "output_type": "stream",
          "name": "stdout",
          "text": [
            "1996.8554775329483\n",
            "<class 'pandas.core.frame.DataFrame'>\n",
            "RangeIndex: 44550 entries, 0 to 44549\n",
            "Data columns (total 18 columns):\n",
            " #   Column                 Non-Null Count  Dtype  \n",
            "---  ------                 --------------  -----  \n",
            " 0   longitude              44550 non-null  float64\n",
            " 1   latitude               44550 non-null  float64\n",
            " 2   basin                  44550 non-null  object \n",
            " 3   region                 44550 non-null  object \n",
            " 4   district_code          44550 non-null  int64  \n",
            " 5   lga                    44550 non-null  object \n",
            " 6   population             44550 non-null  float64\n",
            " 7   public_meeting         44550 non-null  bool   \n",
            " 8   permit                 44550 non-null  bool   \n",
            " 9   construction_year      44550 non-null  float64\n",
            " 10  extraction_type_group  44550 non-null  object \n",
            " 11  management             44550 non-null  object \n",
            " 12  payment                44550 non-null  object \n",
            " 13  water_quality          44550 non-null  object \n",
            " 14  quantity               44550 non-null  object \n",
            " 15  source                 44550 non-null  object \n",
            " 16  waterpoint_type        44550 non-null  object \n",
            " 17  status_group           44550 non-null  object \n",
            "dtypes: bool(2), float64(4), int64(1), object(11)\n",
            "memory usage: 5.5+ MB\n"
          ]
        }
      ]
    },
    {
      "cell_type": "code",
      "source": [
        "pump_data['district_code'].value_counts()"
      ],
      "metadata": {
        "id": "ELoJbjwt8vbR",
        "colab": {
          "base_uri": "https://localhost:8080/"
        },
        "outputId": "4a94eb06-33ed-4b04-9eaa-9b398e55f369"
      },
      "execution_count": null,
      "outputs": [
        {
          "output_type": "execute_result",
          "data": {
            "text/plain": [
              "1     9110\n",
              "2     8280\n",
              "3     7538\n",
              "4     6744\n",
              "5     3325\n",
              "6     3055\n",
              "7     2547\n",
              "8      759\n",
              "30     752\n",
              "33     662\n",
              "53     585\n",
              "43     383\n",
              "13     278\n",
              "23     224\n",
              "63     146\n",
              "62      78\n",
              "60      50\n",
              "0       18\n",
              "80      10\n",
              "67       6\n",
              "Name: district_code, dtype: int64"
            ]
          },
          "metadata": {},
          "execution_count": 29
        }
      ]
    },
    {
      "cell_type": "code",
      "source": [
        "pump_data['age'] = 2023 - pump_data['construction_year']"
      ],
      "metadata": {
        "id": "p8jGRDrAlaUC"
      },
      "execution_count": null,
      "outputs": []
    },
    {
      "cell_type": "code",
      "source": [
        "#We dropped the construction\n",
        "pump_data.drop(columns=['construction_year'],inplace=True )"
      ],
      "metadata": {
        "id": "J0EeDD5joFDm"
      },
      "execution_count": null,
      "outputs": []
    },
    {
      "cell_type": "code",
      "source": [
        "pump_data.head()"
      ],
      "metadata": {
        "id": "8EsIjpdcq7_J",
        "colab": {
          "base_uri": "https://localhost:8080/",
          "height": 337
        },
        "outputId": "7a217fa9-9cd1-47e6-c792-9d20194401ce"
      },
      "execution_count": null,
      "outputs": [
        {
          "output_type": "execute_result",
          "data": {
            "text/plain": [
              "   longitude  latitude       basin       region  district_code           lga  \\\n",
              "0  37.228664 -3.256505     Pangani  Kilimanjaro              5           Hai   \n",
              "1  34.615481 -9.972601  Lake Nyasa       Iringa              5        Ludewa   \n",
              "2  36.658778 -3.321529     Pangani       Arusha              2  Arusha Rural   \n",
              "3  33.628025 -8.860795      Rufiji        Mbeya              2   Mbeya Rural   \n",
              "4  37.655509 -3.669777     Pangani  Kilimanjaro              2        Mwanga   \n",
              "\n",
              "   population  public_meeting  permit extraction_type_group        management  \\\n",
              "0        90.0            True    True               gravity       water board   \n",
              "1        70.0           False   False               gravity  private operator   \n",
              "2       150.0            True    True               gravity               vwc   \n",
              "3       281.0            True    True               gravity               wug   \n",
              "4        34.0            True   False               gravity               vwc   \n",
              "\n",
              "          payment water_quality      quantity  source     waterpoint_type  \\\n",
              "0  pay per bucket          soft        enough  spring  communal standpipe   \n",
              "1       never pay          soft        enough  spring  communal standpipe   \n",
              "2       never pay          soft  insufficient  spring  communal standpipe   \n",
              "3    pay annually          soft  insufficient   river  communal standpipe   \n",
              "4     pay monthly          soft  insufficient  spring  communal standpipe   \n",
              "\n",
              "     status_group   age  \n",
              "0      functional  15.0  \n",
              "1      functional  39.0  \n",
              "2  non functional  21.0  \n",
              "3      functional  26.0  \n",
              "4      functional  16.0  "
            ],
            "text/html": [
              "\n",
              "  <div id=\"df-934e9b5d-8f14-4e6c-933f-9d8f3a89fff7\">\n",
              "    <div class=\"colab-df-container\">\n",
              "      <div>\n",
              "<style scoped>\n",
              "    .dataframe tbody tr th:only-of-type {\n",
              "        vertical-align: middle;\n",
              "    }\n",
              "\n",
              "    .dataframe tbody tr th {\n",
              "        vertical-align: top;\n",
              "    }\n",
              "\n",
              "    .dataframe thead th {\n",
              "        text-align: right;\n",
              "    }\n",
              "</style>\n",
              "<table border=\"1\" class=\"dataframe\">\n",
              "  <thead>\n",
              "    <tr style=\"text-align: right;\">\n",
              "      <th></th>\n",
              "      <th>longitude</th>\n",
              "      <th>latitude</th>\n",
              "      <th>basin</th>\n",
              "      <th>region</th>\n",
              "      <th>district_code</th>\n",
              "      <th>lga</th>\n",
              "      <th>population</th>\n",
              "      <th>public_meeting</th>\n",
              "      <th>permit</th>\n",
              "      <th>extraction_type_group</th>\n",
              "      <th>management</th>\n",
              "      <th>payment</th>\n",
              "      <th>water_quality</th>\n",
              "      <th>quantity</th>\n",
              "      <th>source</th>\n",
              "      <th>waterpoint_type</th>\n",
              "      <th>status_group</th>\n",
              "      <th>age</th>\n",
              "    </tr>\n",
              "  </thead>\n",
              "  <tbody>\n",
              "    <tr>\n",
              "      <th>0</th>\n",
              "      <td>37.228664</td>\n",
              "      <td>-3.256505</td>\n",
              "      <td>Pangani</td>\n",
              "      <td>Kilimanjaro</td>\n",
              "      <td>5</td>\n",
              "      <td>Hai</td>\n",
              "      <td>90.0</td>\n",
              "      <td>True</td>\n",
              "      <td>True</td>\n",
              "      <td>gravity</td>\n",
              "      <td>water board</td>\n",
              "      <td>pay per bucket</td>\n",
              "      <td>soft</td>\n",
              "      <td>enough</td>\n",
              "      <td>spring</td>\n",
              "      <td>communal standpipe</td>\n",
              "      <td>functional</td>\n",
              "      <td>15.0</td>\n",
              "    </tr>\n",
              "    <tr>\n",
              "      <th>1</th>\n",
              "      <td>34.615481</td>\n",
              "      <td>-9.972601</td>\n",
              "      <td>Lake Nyasa</td>\n",
              "      <td>Iringa</td>\n",
              "      <td>5</td>\n",
              "      <td>Ludewa</td>\n",
              "      <td>70.0</td>\n",
              "      <td>False</td>\n",
              "      <td>False</td>\n",
              "      <td>gravity</td>\n",
              "      <td>private operator</td>\n",
              "      <td>never pay</td>\n",
              "      <td>soft</td>\n",
              "      <td>enough</td>\n",
              "      <td>spring</td>\n",
              "      <td>communal standpipe</td>\n",
              "      <td>functional</td>\n",
              "      <td>39.0</td>\n",
              "    </tr>\n",
              "    <tr>\n",
              "      <th>2</th>\n",
              "      <td>36.658778</td>\n",
              "      <td>-3.321529</td>\n",
              "      <td>Pangani</td>\n",
              "      <td>Arusha</td>\n",
              "      <td>2</td>\n",
              "      <td>Arusha Rural</td>\n",
              "      <td>150.0</td>\n",
              "      <td>True</td>\n",
              "      <td>True</td>\n",
              "      <td>gravity</td>\n",
              "      <td>vwc</td>\n",
              "      <td>never pay</td>\n",
              "      <td>soft</td>\n",
              "      <td>insufficient</td>\n",
              "      <td>spring</td>\n",
              "      <td>communal standpipe</td>\n",
              "      <td>non functional</td>\n",
              "      <td>21.0</td>\n",
              "    </tr>\n",
              "    <tr>\n",
              "      <th>3</th>\n",
              "      <td>33.628025</td>\n",
              "      <td>-8.860795</td>\n",
              "      <td>Rufiji</td>\n",
              "      <td>Mbeya</td>\n",
              "      <td>2</td>\n",
              "      <td>Mbeya Rural</td>\n",
              "      <td>281.0</td>\n",
              "      <td>True</td>\n",
              "      <td>True</td>\n",
              "      <td>gravity</td>\n",
              "      <td>wug</td>\n",
              "      <td>pay annually</td>\n",
              "      <td>soft</td>\n",
              "      <td>insufficient</td>\n",
              "      <td>river</td>\n",
              "      <td>communal standpipe</td>\n",
              "      <td>functional</td>\n",
              "      <td>26.0</td>\n",
              "    </tr>\n",
              "    <tr>\n",
              "      <th>4</th>\n",
              "      <td>37.655509</td>\n",
              "      <td>-3.669777</td>\n",
              "      <td>Pangani</td>\n",
              "      <td>Kilimanjaro</td>\n",
              "      <td>2</td>\n",
              "      <td>Mwanga</td>\n",
              "      <td>34.0</td>\n",
              "      <td>True</td>\n",
              "      <td>False</td>\n",
              "      <td>gravity</td>\n",
              "      <td>vwc</td>\n",
              "      <td>pay monthly</td>\n",
              "      <td>soft</td>\n",
              "      <td>insufficient</td>\n",
              "      <td>spring</td>\n",
              "      <td>communal standpipe</td>\n",
              "      <td>functional</td>\n",
              "      <td>16.0</td>\n",
              "    </tr>\n",
              "  </tbody>\n",
              "</table>\n",
              "</div>\n",
              "      <button class=\"colab-df-convert\" onclick=\"convertToInteractive('df-934e9b5d-8f14-4e6c-933f-9d8f3a89fff7')\"\n",
              "              title=\"Convert this dataframe to an interactive table.\"\n",
              "              style=\"display:none;\">\n",
              "        \n",
              "  <svg xmlns=\"http://www.w3.org/2000/svg\" height=\"24px\"viewBox=\"0 0 24 24\"\n",
              "       width=\"24px\">\n",
              "    <path d=\"M0 0h24v24H0V0z\" fill=\"none\"/>\n",
              "    <path d=\"M18.56 5.44l.94 2.06.94-2.06 2.06-.94-2.06-.94-.94-2.06-.94 2.06-2.06.94zm-11 1L8.5 8.5l.94-2.06 2.06-.94-2.06-.94L8.5 2.5l-.94 2.06-2.06.94zm10 10l.94 2.06.94-2.06 2.06-.94-2.06-.94-.94-2.06-.94 2.06-2.06.94z\"/><path d=\"M17.41 7.96l-1.37-1.37c-.4-.4-.92-.59-1.43-.59-.52 0-1.04.2-1.43.59L10.3 9.45l-7.72 7.72c-.78.78-.78 2.05 0 2.83L4 21.41c.39.39.9.59 1.41.59.51 0 1.02-.2 1.41-.59l7.78-7.78 2.81-2.81c.8-.78.8-2.07 0-2.86zM5.41 20L4 18.59l7.72-7.72 1.47 1.35L5.41 20z\"/>\n",
              "  </svg>\n",
              "      </button>\n",
              "      \n",
              "  <style>\n",
              "    .colab-df-container {\n",
              "      display:flex;\n",
              "      flex-wrap:wrap;\n",
              "      gap: 12px;\n",
              "    }\n",
              "\n",
              "    .colab-df-convert {\n",
              "      background-color: #E8F0FE;\n",
              "      border: none;\n",
              "      border-radius: 50%;\n",
              "      cursor: pointer;\n",
              "      display: none;\n",
              "      fill: #1967D2;\n",
              "      height: 32px;\n",
              "      padding: 0 0 0 0;\n",
              "      width: 32px;\n",
              "    }\n",
              "\n",
              "    .colab-df-convert:hover {\n",
              "      background-color: #E2EBFA;\n",
              "      box-shadow: 0px 1px 2px rgba(60, 64, 67, 0.3), 0px 1px 3px 1px rgba(60, 64, 67, 0.15);\n",
              "      fill: #174EA6;\n",
              "    }\n",
              "\n",
              "    [theme=dark] .colab-df-convert {\n",
              "      background-color: #3B4455;\n",
              "      fill: #D2E3FC;\n",
              "    }\n",
              "\n",
              "    [theme=dark] .colab-df-convert:hover {\n",
              "      background-color: #434B5C;\n",
              "      box-shadow: 0px 1px 3px 1px rgba(0, 0, 0, 0.15);\n",
              "      filter: drop-shadow(0px 1px 2px rgba(0, 0, 0, 0.3));\n",
              "      fill: #FFFFFF;\n",
              "    }\n",
              "  </style>\n",
              "\n",
              "      <script>\n",
              "        const buttonEl =\n",
              "          document.querySelector('#df-934e9b5d-8f14-4e6c-933f-9d8f3a89fff7 button.colab-df-convert');\n",
              "        buttonEl.style.display =\n",
              "          google.colab.kernel.accessAllowed ? 'block' : 'none';\n",
              "\n",
              "        async function convertToInteractive(key) {\n",
              "          const element = document.querySelector('#df-934e9b5d-8f14-4e6c-933f-9d8f3a89fff7');\n",
              "          const dataTable =\n",
              "            await google.colab.kernel.invokeFunction('convertToInteractive',\n",
              "                                                     [key], {});\n",
              "          if (!dataTable) return;\n",
              "\n",
              "          const docLinkHtml = 'Like what you see? Visit the ' +\n",
              "            '<a target=\"_blank\" href=https://colab.research.google.com/notebooks/data_table.ipynb>data table notebook</a>'\n",
              "            + ' to learn more about interactive tables.';\n",
              "          element.innerHTML = '';\n",
              "          dataTable['output_type'] = 'display_data';\n",
              "          await google.colab.output.renderOutput(dataTable, element);\n",
              "          const docLink = document.createElement('div');\n",
              "          docLink.innerHTML = docLinkHtml;\n",
              "          element.appendChild(docLink);\n",
              "        }\n",
              "      </script>\n",
              "    </div>\n",
              "  </div>\n",
              "  "
            ]
          },
          "metadata": {},
          "execution_count": 32
        }
      ]
    },
    {
      "cell_type": "code",
      "source": [
        "print('Training Dataset', pump_data.shape)\n"
      ],
      "metadata": {
        "id": "TfBeeI8_VDPM",
        "colab": {
          "base_uri": "https://localhost:8080/"
        },
        "outputId": "61b6f1a3-c77f-4a1c-c7c5-b31f9121aa46"
      },
      "execution_count": null,
      "outputs": [
        {
          "output_type": "stream",
          "name": "stdout",
          "text": [
            "Training Dataset (44550, 18)\n"
          ]
        }
      ]
    },
    {
      "cell_type": "code",
      "source": [
        "pump_data.isna().sum().sort_values(ascending=False)"
      ],
      "metadata": {
        "id": "C2Bryz-dBLYN",
        "colab": {
          "base_uri": "https://localhost:8080/"
        },
        "outputId": "804a5276-7f6d-4a9d-9973-cc4284302059"
      },
      "execution_count": null,
      "outputs": [
        {
          "output_type": "execute_result",
          "data": {
            "text/plain": [
              "longitude                0\n",
              "latitude                 0\n",
              "status_group             0\n",
              "waterpoint_type          0\n",
              "source                   0\n",
              "quantity                 0\n",
              "water_quality            0\n",
              "payment                  0\n",
              "management               0\n",
              "extraction_type_group    0\n",
              "permit                   0\n",
              "public_meeting           0\n",
              "population               0\n",
              "lga                      0\n",
              "district_code            0\n",
              "region                   0\n",
              "basin                    0\n",
              "age                      0\n",
              "dtype: int64"
            ]
          },
          "metadata": {},
          "execution_count": 34
        }
      ]
    },
    {
      "cell_type": "markdown",
      "source": [
        "## Encoding the features"
      ],
      "metadata": {
        "id": "wq1kMByqrI-Y"
      }
    },
    {
      "cell_type": "markdown",
      "source": [
        "It is important to identify the different kinds of features and setting the appropriate data type before we start encoding. We identified three kinds of features, boolean, categorical, and numerical."
      ],
      "metadata": {
        "id": "n0FGXNcYbr2O"
      }
    },
    {
      "cell_type": "markdown",
      "source": [
        "### Determining the numerical and categorical features"
      ],
      "metadata": {
        "id": "MvztBiXAcuTg"
      }
    },
    {
      "cell_type": "code",
      "source": [
        "pump_data.info()"
      ],
      "metadata": {
        "id": "QaU3-tnnr7ff",
        "colab": {
          "base_uri": "https://localhost:8080/"
        },
        "outputId": "3fd4c592-b4b0-43e9-b698-b29de9b528db"
      },
      "execution_count": null,
      "outputs": [
        {
          "output_type": "stream",
          "name": "stdout",
          "text": [
            "<class 'pandas.core.frame.DataFrame'>\n",
            "RangeIndex: 44550 entries, 0 to 44549\n",
            "Data columns (total 18 columns):\n",
            " #   Column                 Non-Null Count  Dtype  \n",
            "---  ------                 --------------  -----  \n",
            " 0   longitude              44550 non-null  float64\n",
            " 1   latitude               44550 non-null  float64\n",
            " 2   basin                  44550 non-null  object \n",
            " 3   region                 44550 non-null  object \n",
            " 4   district_code          44550 non-null  int64  \n",
            " 5   lga                    44550 non-null  object \n",
            " 6   population             44550 non-null  float64\n",
            " 7   public_meeting         44550 non-null  bool   \n",
            " 8   permit                 44550 non-null  bool   \n",
            " 9   extraction_type_group  44550 non-null  object \n",
            " 10  management             44550 non-null  object \n",
            " 11  payment                44550 non-null  object \n",
            " 12  water_quality          44550 non-null  object \n",
            " 13  quantity               44550 non-null  object \n",
            " 14  source                 44550 non-null  object \n",
            " 15  waterpoint_type        44550 non-null  object \n",
            " 16  status_group           44550 non-null  object \n",
            " 17  age                    44550 non-null  float64\n",
            "dtypes: bool(2), float64(4), int64(1), object(11)\n",
            "memory usage: 5.5+ MB\n"
          ]
        }
      ]
    },
    {
      "cell_type": "code",
      "source": [
        "# Looking at the pump_data head, we can see that 2 features are of boolean form.\n",
        "# For smoother analysis, we considered these boolean features as integer\n",
        "\n",
        "pump_data['permit'] = pump_data['permit'].astype(bool).astype(int)\n",
        "pump_data['public_meeting'] = pump_data['public_meeting'].astype(bool).astype(int)\n",
        "\n",
        "boolean_features = ['public_meeting', 'permit']"
      ],
      "metadata": {
        "id": "DvgsgGX05cVg"
      },
      "execution_count": null,
      "outputs": []
    },
    {
      "cell_type": "code",
      "source": [
        "# convert the categorical features into 'category' type instead of 'object' type\n",
        "\n",
        "categorical_features = ['basin', 'region', 'district_code', 'lga', 'extraction_type_group', 'management',\n",
        "                        'payment', 'water_quality', 'quantity', 'source', 'waterpoint_type']\n",
        "pump_data[categorical_features] = pump_data[categorical_features].astype('category')"
      ],
      "metadata": {
        "id": "544LnfvZ8s_K"
      },
      "execution_count": null,
      "outputs": []
    },
    {
      "cell_type": "code",
      "source": [
        "pump_data.info()"
      ],
      "metadata": {
        "id": "Uq4Sfy9sHiqy",
        "colab": {
          "base_uri": "https://localhost:8080/"
        },
        "outputId": "1749abc7-dbec-4e79-84c3-633a8c5975da"
      },
      "execution_count": null,
      "outputs": [
        {
          "output_type": "stream",
          "name": "stdout",
          "text": [
            "<class 'pandas.core.frame.DataFrame'>\n",
            "RangeIndex: 44550 entries, 0 to 44549\n",
            "Data columns (total 18 columns):\n",
            " #   Column                 Non-Null Count  Dtype   \n",
            "---  ------                 --------------  -----   \n",
            " 0   longitude              44550 non-null  float64 \n",
            " 1   latitude               44550 non-null  float64 \n",
            " 2   basin                  44550 non-null  category\n",
            " 3   region                 44550 non-null  category\n",
            " 4   district_code          44550 non-null  category\n",
            " 5   lga                    44550 non-null  category\n",
            " 6   population             44550 non-null  float64 \n",
            " 7   public_meeting         44550 non-null  int64   \n",
            " 8   permit                 44550 non-null  int64   \n",
            " 9   extraction_type_group  44550 non-null  category\n",
            " 10  management             44550 non-null  category\n",
            " 11  payment                44550 non-null  category\n",
            " 12  water_quality          44550 non-null  category\n",
            " 13  quantity               44550 non-null  category\n",
            " 14  source                 44550 non-null  category\n",
            " 15  waterpoint_type        44550 non-null  category\n",
            " 16  status_group           44550 non-null  object  \n",
            " 17  age                    44550 non-null  float64 \n",
            "dtypes: category(11), float64(4), int64(2), object(1)\n",
            "memory usage: 2.9+ MB\n"
          ]
        }
      ]
    },
    {
      "cell_type": "code",
      "source": [
        "# identifying the numerical features for easier scaling later on\n",
        "\n",
        "numerical_features = ['longitude', 'latitude', 'population', 'age']\n",
        "print('num', numerical_features)\n"
      ],
      "metadata": {
        "id": "FdhlD6PisRF9",
        "colab": {
          "base_uri": "https://localhost:8080/"
        },
        "outputId": "ec9ad873-a9db-4335-fc06-9d3dd55a5e6d"
      },
      "execution_count": null,
      "outputs": [
        {
          "output_type": "stream",
          "name": "stdout",
          "text": [
            "num ['longitude', 'latitude', 'population', 'age']\n"
          ]
        }
      ]
    },
    {
      "cell_type": "markdown",
      "source": [
        "Aside from convenience when it comes to the scaling part, another benefit of identifying the numerical features is that we can see the correlation between these features."
      ],
      "metadata": {
        "id": "5kCqfZ4Rc6Eb"
      }
    },
    {
      "cell_type": "code",
      "source": [
        "corrmat = pump_data[numerical_features].corr(method='spearman')\n",
        "sns.heatmap(abs(corrmat), annot=True)\n",
        "plt.show()\n"
      ],
      "metadata": {
        "id": "3-xyvSpawyvT",
        "colab": {
          "base_uri": "https://localhost:8080/",
          "height": 435
        },
        "outputId": "f88d0f06-f2c5-4599-f1ff-3c5e26c87025"
      },
      "execution_count": null,
      "outputs": [
        {
          "output_type": "display_data",
          "data": {
            "text/plain": [
              "<Figure size 640x480 with 2 Axes>"
            ],
            "image/png": "[encoded data removed]"
          },
          "metadata": {}
        }
      ]
    },
    {
      "cell_type": "markdown",
      "source": [
        "Looking at the correlation matrix of the numerical features, we can see that there is little to no relation between the columns, so we can consider all of these features for our model. Their may be a slight correlation between the latitude and population, but this is might be due to the population being denser at certain geographic locations."
      ],
      "metadata": {
        "id": "7Itx4sAQ0Qa4"
      }
    },
    {
      "cell_type": "markdown",
      "source": [
        "### Encoding the target vector"
      ],
      "metadata": {
        "id": "yODO5I3qeBuA"
      }
    },
    {
      "cell_type": "code",
      "source": [
        "target_status_group = {'functional':0,\n",
        "                    'functional needs repair': 1,\n",
        "                   'non functional': 2}\n",
        "pump_data['status_group'] = pump_data['status_group'].replace(target_status_group)"
      ],
      "metadata": {
        "id": "zpWnc950Wapt"
      },
      "execution_count": null,
      "outputs": []
    },
    {
      "cell_type": "markdown",
      "source": [
        "### Encoding the categorical features"
      ],
      "metadata": {
        "id": "l5Di1HD1ecUB"
      }
    },
    {
      "cell_type": "code",
      "source": [
        "# encode first before splitting\n",
        "\n",
        "encoder = OneHotEncoder()\n",
        "x_encoded = encoder.fit_transform(pump_data[categorical_features]).toarray()\n",
        "x_encoded_df = pd.DataFrame(x_encoded, columns=encoder.get_feature_names_out(categorical_features))\n",
        "\n",
        "\n",
        "# combine the encoded data with the numerical and boolean features\n",
        "\n",
        "X = pd.concat([pump_data[numerical_features], x_encoded_df, pump_data[boolean_features]], axis=1)\n",
        "\n",
        "X.head()"
      ],
      "metadata": {
        "id": "4VgcrNj_irnT",
        "colab": {
          "base_uri": "https://localhost:8080/",
          "height": 317
        },
        "outputId": "4670de71-ec1c-459b-cd6d-0c71ac38d380"
      },
      "execution_count": null,
      "outputs": [
        {
          "output_type": "execute_result",
          "data": {
            "text/plain": [
              "   longitude  latitude  population   age  basin_Internal  basin_Lake Nyasa  \\\n",
              "0  37.228664 -3.256505        90.0  15.0             0.0               0.0   \n",
              "1  34.615481 -9.972601        70.0  39.0             0.0               1.0   \n",
              "2  36.658778 -3.321529       150.0  21.0             0.0               0.0   \n",
              "3  33.628025 -8.860795       281.0  26.0             0.0               0.0   \n",
              "4  37.655509 -3.669777        34.0  16.0             0.0               0.0   \n",
              "\n",
              "   basin_Lake Rukwa  basin_Lake Tanganyika  basin_Lake Victoria  \\\n",
              "0               0.0                    0.0                  0.0   \n",
              "1               0.0                    0.0                  0.0   \n",
              "2               0.0                    0.0                  0.0   \n",
              "3               0.0                    0.0                  0.0   \n",
              "4               0.0                    0.0                  0.0   \n",
              "\n",
              "   basin_Pangani  ...  source_unknown  waterpoint_type_cattle trough  \\\n",
              "0            1.0  ...             0.0                            0.0   \n",
              "1            0.0  ...             0.0                            0.0   \n",
              "2            1.0  ...             0.0                            0.0   \n",
              "3            0.0  ...             0.0                            0.0   \n",
              "4            1.0  ...             0.0                            0.0   \n",
              "\n",
              "   waterpoint_type_communal standpipe  \\\n",
              "0                                 1.0   \n",
              "1                                 1.0   \n",
              "2                                 1.0   \n",
              "3                                 1.0   \n",
              "4                                 1.0   \n",
              "\n",
              "   waterpoint_type_communal standpipe multiple  waterpoint_type_dam  \\\n",
              "0                                          0.0                  0.0   \n",
              "1                                          0.0                  0.0   \n",
              "2                                          0.0                  0.0   \n",
              "3                                          0.0                  0.0   \n",
              "4                                          0.0                  0.0   \n",
              "\n",
              "   waterpoint_type_hand pump  waterpoint_type_improved spring  \\\n",
              "0                        0.0                              0.0   \n",
              "1                        0.0                              0.0   \n",
              "2                        0.0                              0.0   \n",
              "3                        0.0                              0.0   \n",
              "4                        0.0                              0.0   \n",
              "\n",
              "   waterpoint_type_other  public_meeting  permit  \n",
              "0                    0.0               1       1  \n",
              "1                    0.0               0       0  \n",
              "2                    0.0               1       1  \n",
              "3                    0.0               1       1  \n",
              "4                    0.0               1       0  \n",
              "\n",
              "[5 rows x 243 columns]"
            ],
            "text/html": [
              "\n",
              "  <div id=\"df-72b5732e-cfc1-460d-8244-df6a7bf2d483\">\n",
              "    <div class=\"colab-df-container\">\n",
              "      <div>\n",
              "<style scoped>\n",
              "    .dataframe tbody tr th:only-of-type {\n",
              "        vertical-align: middle;\n",
              "    }\n",
              "\n",
              "    .dataframe tbody tr th {\n",
              "        vertical-align: top;\n",
              "    }\n",
              "\n",
              "    .dataframe thead th {\n",
              "        text-align: right;\n",
              "    }\n",
              "</style>\n",
              "<table border=\"1\" class=\"dataframe\">\n",
              "  <thead>\n",
              "    <tr style=\"text-align: right;\">\n",
              "      <th></th>\n",
              "      <th>longitude</th>\n",
              "      <th>latitude</th>\n",
              "      <th>population</th>\n",
              "      <th>age</th>\n",
              "      <th>basin_Internal</th>\n",
              "      <th>basin_Lake Nyasa</th>\n",
              "      <th>basin_Lake Rukwa</th>\n",
              "      <th>basin_Lake Tanganyika</th>\n",
              "      <th>basin_Lake Victoria</th>\n",
              "      <th>basin_Pangani</th>\n",
              "      <th>...</th>\n",
              "      <th>source_unknown</th>\n",
              "      <th>waterpoint_type_cattle trough</th>\n",
              "      <th>waterpoint_type_communal standpipe</th>\n",
              "      <th>waterpoint_type_communal standpipe multiple</th>\n",
              "      <th>waterpoint_type_dam</th>\n",
              "      <th>waterpoint_type_hand pump</th>\n",
              "      <th>waterpoint_type_improved spring</th>\n",
              "      <th>waterpoint_type_other</th>\n",
              "      <th>public_meeting</th>\n",
              "      <th>permit</th>\n",
              "    </tr>\n",
              "  </thead>\n",
              "  <tbody>\n",
              "    <tr>\n",
              "      <th>0</th>\n",
              "      <td>37.228664</td>\n",
              "      <td>-3.256505</td>\n",
              "      <td>90.0</td>\n",
              "      <td>15.0</td>\n",
              "      <td>0.0</td>\n",
              "      <td>0.0</td>\n",
              "      <td>0.0</td>\n",
              "      <td>0.0</td>\n",
              "      <td>0.0</td>\n",
              "      <td>1.0</td>\n",
              "      <td>...</td>\n",
              "      <td>0.0</td>\n",
              "      <td>0.0</td>\n",
              "      <td>1.0</td>\n",
              "      <td>0.0</td>\n",
              "      <td>0.0</td>\n",
              "      <td>0.0</td>\n",
              "      <td>0.0</td>\n",
              "      <td>0.0</td>\n",
              "      <td>1</td>\n",
              "      <td>1</td>\n",
              "    </tr>\n",
              "    <tr>\n",
              "      <th>1</th>\n",
              "      <td>34.615481</td>\n",
              "      <td>-9.972601</td>\n",
              "      <td>70.0</td>\n",
              "      <td>39.0</td>\n",
              "      <td>0.0</td>\n",
              "      <td>1.0</td>\n",
              "      <td>0.0</td>\n",
              "      <td>0.0</td>\n",
              "      <td>0.0</td>\n",
              "      <td>0.0</td>\n",
              "      <td>...</td>\n",
              "      <td>0.0</td>\n",
              "      <td>0.0</td>\n",
              "      <td>1.0</td>\n",
              "      <td>0.0</td>\n",
              "      <td>0.0</td>\n",
              "      <td>0.0</td>\n",
              "      <td>0.0</td>\n",
              "      <td>0.0</td>\n",
              "      <td>0</td>\n",
              "      <td>0</td>\n",
              "    </tr>\n",
              "    <tr>\n",
              "      <th>2</th>\n",
              "      <td>36.658778</td>\n",
              "      <td>-3.321529</td>\n",
              "      <td>150.0</td>\n",
              "      <td>21.0</td>\n",
              "      <td>0.0</td>\n",
              "      <td>0.0</td>\n",
              "      <td>0.0</td>\n",
              "      <td>0.0</td>\n",
              "      <td>0.0</td>\n",
              "      <td>1.0</td>\n",
              "      <td>...</td>\n",
              "      <td>0.0</td>\n",
              "      <td>0.0</td>\n",
              "      <td>1.0</td>\n",
              "      <td>0.0</td>\n",
              "      <td>0.0</td>\n",
              "      <td>0.0</td>\n",
              "      <td>0.0</td>\n",
              "      <td>0.0</td>\n",
              "      <td>1</td>\n",
              "      <td>1</td>\n",
              "    </tr>\n",
              "    <tr>\n",
              "      <th>3</th>\n",
              "      <td>33.628025</td>\n",
              "      <td>-8.860795</td>\n",
              "      <td>281.0</td>\n",
              "      <td>26.0</td>\n",
              "      <td>0.0</td>\n",
              "      <td>0.0</td>\n",
              "      <td>0.0</td>\n",
              "      <td>0.0</td>\n",
              "      <td>0.0</td>\n",
              "      <td>0.0</td>\n",
              "      <td>...</td>\n",
              "      <td>0.0</td>\n",
              "      <td>0.0</td>\n",
              "      <td>1.0</td>\n",
              "      <td>0.0</td>\n",
              "      <td>0.0</td>\n",
              "      <td>0.0</td>\n",
              "      <td>0.0</td>\n",
              "      <td>0.0</td>\n",
              "      <td>1</td>\n",
              "      <td>1</td>\n",
              "    </tr>\n",
              "    <tr>\n",
              "      <th>4</th>\n",
              "      <td>37.655509</td>\n",
              "      <td>-3.669777</td>\n",
              "      <td>34.0</td>\n",
              "      <td>16.0</td>\n",
              "      <td>0.0</td>\n",
              "      <td>0.0</td>\n",
              "      <td>0.0</td>\n",
              "      <td>0.0</td>\n",
              "      <td>0.0</td>\n",
              "      <td>1.0</td>\n",
              "      <td>...</td>\n",
              "      <td>0.0</td>\n",
              "      <td>0.0</td>\n",
              "      <td>1.0</td>\n",
              "      <td>0.0</td>\n",
              "      <td>0.0</td>\n",
              "      <td>0.0</td>\n",
              "      <td>0.0</td>\n",
              "      <td>0.0</td>\n",
              "      <td>1</td>\n",
              "      <td>0</td>\n",
              "    </tr>\n",
              "  </tbody>\n",
              "</table>\n",
              "<p>5 rows × 243 columns</p>\n",
              "</div>\n",
              "      <button class=\"colab-df-convert\" onclick=\"convertToInteractive('df-72b5732e-cfc1-460d-8244-df6a7bf2d483')\"\n",
              "              title=\"Convert this dataframe to an interactive table.\"\n",
              "              style=\"display:none;\">\n",
              "        \n",
              "  <svg xmlns=\"http://www.w3.org/2000/svg\" height=\"24px\"viewBox=\"0 0 24 24\"\n",
              "       width=\"24px\">\n",
              "    <path d=\"M0 0h24v24H0V0z\" fill=\"none\"/>\n",
              "    <path d=\"M18.56 5.44l.94 2.06.94-2.06 2.06-.94-2.06-.94-.94-2.06-.94 2.06-2.06.94zm-11 1L8.5 8.5l.94-2.06 2.06-.94-2.06-.94L8.5 2.5l-.94 2.06-2.06.94zm10 10l.94 2.06.94-2.06 2.06-.94-2.06-.94-.94-2.06-.94 2.06-2.06.94z\"/><path d=\"M17.41 7.96l-1.37-1.37c-.4-.4-.92-.59-1.43-.59-.52 0-1.04.2-1.43.59L10.3 9.45l-7.72 7.72c-.78.78-.78 2.05 0 2.83L4 21.41c.39.39.9.59 1.41.59.51 0 1.02-.2 1.41-.59l7.78-7.78 2.81-2.81c.8-.78.8-2.07 0-2.86zM5.41 20L4 18.59l7.72-7.72 1.47 1.35L5.41 20z\"/>\n",
              "  </svg>\n",
              "      </button>\n",
              "      \n",
              "  <style>\n",
              "    .colab-df-container {\n",
              "      display:flex;\n",
              "      flex-wrap:wrap;\n",
              "      gap: 12px;\n",
              "    }\n",
              "\n",
              "    .colab-df-convert {\n",
              "      background-color: #E8F0FE;\n",
              "      border: none;\n",
              "      border-radius: 50%;\n",
              "      cursor: pointer;\n",
              "      display: none;\n",
              "      fill: #1967D2;\n",
              "      height: 32px;\n",
              "      padding: 0 0 0 0;\n",
              "      width: 32px;\n",
              "    }\n",
              "\n",
              "    .colab-df-convert:hover {\n",
              "      background-color: #E2EBFA;\n",
              "      box-shadow: 0px 1px 2px rgba(60, 64, 67, 0.3), 0px 1px 3px 1px rgba(60, 64, 67, 0.15);\n",
              "      fill: #174EA6;\n",
              "    }\n",
              "\n",
              "    [theme=dark] .colab-df-convert {\n",
              "      background-color: #3B4455;\n",
              "      fill: #D2E3FC;\n",
              "    }\n",
              "\n",
              "    [theme=dark] .colab-df-convert:hover {\n",
              "      background-color: #434B5C;\n",
              "      box-shadow: 0px 1px 3px 1px rgba(0, 0, 0, 0.15);\n",
              "      filter: drop-shadow(0px 1px 2px rgba(0, 0, 0, 0.3));\n",
              "      fill: #FFFFFF;\n",
              "    }\n",
              "  </style>\n",
              "\n",
              "      <script>\n",
              "        const buttonEl =\n",
              "          document.querySelector('#df-72b5732e-cfc1-460d-8244-df6a7bf2d483 button.colab-df-convert');\n",
              "        buttonEl.style.display =\n",
              "          google.colab.kernel.accessAllowed ? 'block' : 'none';\n",
              "\n",
              "        async function convertToInteractive(key) {\n",
              "          const element = document.querySelector('#df-72b5732e-cfc1-460d-8244-df6a7bf2d483');\n",
              "          const dataTable =\n",
              "            await google.colab.kernel.invokeFunction('convertToInteractive',\n",
              "                                                     [key], {});\n",
              "          if (!dataTable) return;\n",
              "\n",
              "          const docLinkHtml = 'Like what you see? Visit the ' +\n",
              "            '<a target=\"_blank\" href=https://colab.research.google.com/notebooks/data_table.ipynb>data table notebook</a>'\n",
              "            + ' to learn more about interactive tables.';\n",
              "          element.innerHTML = '';\n",
              "          dataTable['output_type'] = 'display_data';\n",
              "          await google.colab.output.renderOutput(dataTable, element);\n",
              "          const docLink = document.createElement('div');\n",
              "          docLink.innerHTML = docLinkHtml;\n",
              "          element.appendChild(docLink);\n",
              "        }\n",
              "      </script>\n",
              "    </div>\n",
              "  </div>\n",
              "  "
            ]
          },
          "metadata": {},
          "execution_count": 42
        }
      ]
    },
    {
      "cell_type": "markdown",
      "source": [
        "### Splitting the Data before Scaling"
      ],
      "metadata": {
        "id": "YOtYqXJVKi65"
      }
    },
    {
      "cell_type": "code",
      "source": [
        "# Splitting the dataset into training and validation\n",
        "y = pump_data[\"status_group\"]\n",
        "\n",
        "X_train, X_test, y_train, y_test = train_test_split(X, y, random_state=0)"
      ],
      "metadata": {
        "id": "X0_DE573389B"
      },
      "execution_count": null,
      "outputs": []
    },
    {
      "cell_type": "markdown",
      "source": [
        "###Scaling the numerical features"
      ],
      "metadata": {
        "id": "eOuPZ87RKugp"
      }
    },
    {
      "cell_type": "code",
      "source": [
        "# after splitting, we can implement scaler on the training set and test set\n",
        "# separately so we can avoid data leakage\n",
        "\n",
        "scaler = MinMaxScaler()\n",
        "x_train_num = scaler.fit_transform(X_train[numerical_features])\n",
        "X_train_num_df = pd.DataFrame(x_train_num, columns=numerical_features)\n",
        "\n",
        "x_test_num = scaler.fit_transform(X_test[numerical_features])\n",
        "X_test_num_df = pd.DataFrame(x_test_num, columns=numerical_features)\n",
        "\n",
        "# we need to apply the normalized numerical features to the original dataset\n",
        "\n",
        "X_train[numerical_features] = x_train_num\n",
        "X_test[numerical_features] = x_test_num"
      ],
      "metadata": {
        "id": "PLFZeOPvkRo1"
      },
      "execution_count": null,
      "outputs": []
    },
    {
      "cell_type": "code",
      "source": [
        "print(y_train.shape)\n",
        "print(X_train.shape)"
      ],
      "metadata": {
        "id": "7StEeI6EVBe8",
        "colab": {
          "base_uri": "https://localhost:8080/"
        },
        "outputId": "b0bf4de7-7862-4d92-8ed2-1ddd72c412ad"
      },
      "execution_count": null,
      "outputs": [
        {
          "output_type": "stream",
          "name": "stdout",
          "text": [
            "(33412,)\n",
            "(33412, 243)\n"
          ]
        }
      ]
    },
    {
      "cell_type": "markdown",
      "source": [
        "# Part Two - Implementing different Models"
      ],
      "metadata": {
        "id": "SPTaL_-cCUlq"
      }
    },
    {
      "cell_type": "markdown",
      "source": [
        "##  Logistic Regression Model"
      ],
      "metadata": {
        "id": "5HSzcdyOCiiH"
      }
    },
    {
      "cell_type": "code",
      "source": [
        "# Initializing Logistic Regression model\n",
        "logreg = LogisticRegression()\n",
        "y_df = pd.DataFrame(y_train)\n",
        "logreg.fit(X_train, y_train)"
      ],
      "metadata": {
        "id": "1Bh7qUD6EvKA",
        "colab": {
          "base_uri": "https://localhost:8080/",
          "height": 214
        },
        "outputId": "bcdd5c71-9f42-4c24-f9d5-1b314de1be50"
      },
      "execution_count": null,
      "outputs": [
        {
          "output_type": "stream",
          "name": "stderr",
          "text": [
            "/usr/local/lib/python3.9/dist-packages/sklearn/linear_model/_logistic.py:458: ConvergenceWarning: lbfgs failed to converge (status=1):\n",
            "STOP: TOTAL NO. of ITERATIONS REACHED LIMIT.\n",
            "\n",
            "Increase the number of iterations (max_iter) or scale the data as shown in:\n",
            "    https://scikit-learn.org/stable/modules/preprocessing.html\n",
            "Please also refer to the documentation for alternative solver options:\n",
            "    https://scikit-learn.org/stable/modules/linear_model.html#logistic-regression\n",
            "  n_iter_i = _check_optimize_result(\n"
          ]
        },
        {
          "output_type": "execute_result",
          "data": {
            "text/plain": [
              "LogisticRegression()"
            ],
            "text/html": [
              "<style>#sk-container-id-1 {color: black;background-color: white;}#sk-container-id-1 pre{padding: 0;}#sk-container-id-1 div.sk-toggleable {background-color: white;}#sk-container-id-1 label.sk-toggleable__label {cursor: pointer;display: block;width: 100%;margin-bottom: 0;padding: 0.3em;box-sizing: border-box;text-align: center;}#sk-container-id-1 label.sk-toggleable__label-arrow:before {content: \"▸\";float: left;margin-right: 0.25em;color: #696969;}#sk-container-id-1 label.sk-toggleable__label-arrow:hover:before {color: black;}#sk-container-id-1 div.sk-estimator:hover label.sk-toggleable__label-arrow:before {color: black;}#sk-container-id-1 div.sk-toggleable__content {max-height: 0;max-width: 0;overflow: hidden;text-align: left;background-color: #f0f8ff;}#sk-container-id-1 div.sk-toggleable__content pre {margin: 0.2em;color: black;border-radius: 0.25em;background-color: #f0f8ff;}#sk-container-id-1 input.sk-toggleable__control:checked~div.sk-toggleable__content {max-height: 200px;max-width: 100%;overflow: auto;}#sk-container-id-1 input.sk-toggleable__control:checked~label.sk-toggleable__label-arrow:before {content: \"▾\";}#sk-container-id-1 div.sk-estimator input.sk-toggleable__control:checked~label.sk-toggleable__label {background-color: #d4ebff;}#sk-container-id-1 div.sk-label input.sk-toggleable__control:checked~label.sk-toggleable__label {background-color: #d4ebff;}#sk-container-id-1 input.sk-hidden--visually {border: 0;clip: rect(1px 1px 1px 1px);clip: rect(1px, 1px, 1px, 1px);height: 1px;margin: -1px;overflow: hidden;padding: 0;position: absolute;width: 1px;}#sk-container-id-1 div.sk-estimator {font-family: monospace;background-color: #f0f8ff;border: 1px dotted black;border-radius: 0.25em;box-sizing: border-box;margin-bottom: 0.5em;}#sk-container-id-1 div.sk-estimator:hover {background-color: #d4ebff;}#sk-container-id-1 div.sk-parallel-item::after {content: \"\";width: 100%;border-bottom: 1px solid gray;flex-grow: 1;}#sk-container-id-1 div.sk-label:hover label.sk-toggleable__label {background-color: #d4ebff;}#sk-container-id-1 div.sk-serial::before {content: \"\";position: absolute;border-left: 1px solid gray;box-sizing: border-box;top: 0;bottom: 0;left: 50%;z-index: 0;}#sk-container-id-1 div.sk-serial {display: flex;flex-direction: column;align-items: center;background-color: white;padding-right: 0.2em;padding-left: 0.2em;position: relative;}#sk-container-id-1 div.sk-item {position: relative;z-index: 1;}#sk-container-id-1 div.sk-parallel {display: flex;align-items: stretch;justify-content: center;background-color: white;position: relative;}#sk-container-id-1 div.sk-item::before, #sk-container-id-1 div.sk-parallel-item::before {content: \"\";position: absolute;border-left: 1px solid gray;box-sizing: border-box;top: 0;bottom: 0;left: 50%;z-index: -1;}#sk-container-id-1 div.sk-parallel-item {display: flex;flex-direction: column;z-index: 1;position: relative;background-color: white;}#sk-container-id-1 div.sk-parallel-item:first-child::after {align-self: flex-end;width: 50%;}#sk-container-id-1 div.sk-parallel-item:last-child::after {align-self: flex-start;width: 50%;}#sk-container-id-1 div.sk-parallel-item:only-child::after {width: 0;}#sk-container-id-1 div.sk-dashed-wrapped {border: 1px dashed gray;margin: 0 0.4em 0.5em 0.4em;box-sizing: border-box;padding-bottom: 0.4em;background-color: white;}#sk-container-id-1 div.sk-label label {font-family: monospace;font-weight: bold;display: inline-block;line-height: 1.2em;}#sk-container-id-1 div.sk-label-container {text-align: center;}#sk-container-id-1 div.sk-container {/* jupyter's `normalize.less` sets `[hidden] { display: none; }` but bootstrap.min.css set `[hidden] { display: none !important; }` so we also need the `!important` here to be able to override the default hidden behavior on the sphinx rendered scikit-learn.org. See: https://github.com/scikit-learn/scikit-learn/issues/21755 */display: inline-block !important;position: relative;}#sk-container-id-1 div.sk-text-repr-fallback {display: none;}</style><div id=\"sk-container-id-1\" class=\"sk-top-container\"><div class=\"sk-text-repr-fallback\"><pre>LogisticRegression()</pre><b>In a Jupyter environment, please rerun this cell to show the HTML representation or trust the notebook. <br />On GitHub, the HTML representation is unable to render, please try loading this page with nbviewer.org.</b></div><div class=\"sk-container\" hidden><div class=\"sk-item\"><div class=\"sk-estimator sk-toggleable\"><input class=\"sk-toggleable__control sk-hidden--visually\" id=\"sk-estimator-id-1\" type=\"checkbox\" checked><label for=\"sk-estimator-id-1\" class=\"sk-toggleable__label sk-toggleable__label-arrow\">LogisticRegression</label><div class=\"sk-toggleable__content\"><pre>LogisticRegression()</pre></div></div></div></div></div>"
            ]
          },
          "metadata": {},
          "execution_count": 46
        }
      ]
    },
    {
      "cell_type": "code",
      "source": [
        "y_pred_lr = logreg.predict(X_test)\n",
        "lg_accuracy = accuracy_score(y_test, y_pred_lr)\n",
        "print(\"Accuracy:\", lg_accuracy)"
      ],
      "metadata": {
        "id": "_XNd7oRnhpiT",
        "colab": {
          "base_uri": "https://localhost:8080/"
        },
        "outputId": "bc904a27-9aa8-4f38-a64c-b6053127da98"
      },
      "execution_count": null,
      "outputs": [
        {
          "output_type": "stream",
          "name": "stdout",
          "text": [
            "Accuracy: 0.736667265218172\n"
          ]
        }
      ]
    },
    {
      "cell_type": "markdown",
      "source": [
        "### Accuracy Metrics for Logistic Regression"
      ],
      "metadata": {
        "id": "UDbM8ozmtYyI"
      }
    },
    {
      "cell_type": "code",
      "source": [
        "precision = precision_score(y_test, y_pred_lr, average='weighted')\n",
        "recall = recall_score(y_test, y_pred_lr, average='weighted')\n",
        "f1 = f1_score(y_test, y_pred_lr, average='weighted')\n",
        "\n",
        "print(f\"Accuracy: {lg_accuracy}\")\n",
        "print(f\"Precision: {precision}\")\n",
        "print(f\"Recall: {recall}\")\n",
        "print(f\"F1-score: {f1}\")"
      ],
      "metadata": {
        "id": "GllCMJzNqJxk",
        "colab": {
          "base_uri": "https://localhost:8080/"
        },
        "outputId": "1a679dce-9771-42ac-e3a6-ffe47cb9d1c1"
      },
      "execution_count": null,
      "outputs": [
        {
          "output_type": "stream",
          "name": "stdout",
          "text": [
            "Accuracy: 0.736667265218172\n",
            "Precision: 0.7277504632572332\n",
            "Recall: 0.736667265218172\n",
            "F1-score: 0.7168841183550043\n"
          ]
        }
      ]
    },
    {
      "cell_type": "code",
      "source": [
        "#Show confusion matrix\n",
        "confusion_lg = confusion_matrix(y_test, y_pred_lr)\n",
        "\n",
        "plot_confusion_matrix(confusion_lg)\n",
        "plt.show()"
      ],
      "metadata": {
        "colab": {
          "base_uri": "https://localhost:8080/",
          "height": 449
        },
        "id": "KL_sTo0K9Ost",
        "outputId": "f33adb91-7901-4c18-d9b7-8a4705d8c413"
      },
      "execution_count": null,
      "outputs": [
        {
          "output_type": "display_data",
          "data": {
            "text/plain": [
              "<Figure size 640x480 with 1 Axes>"
            ],
            "image/png": "[encoded data removed]"
          },
          "metadata": {}
        }
      ]
    },
    {
      "cell_type": "markdown",
      "source": [
        "## Random Forest Model"
      ],
      "metadata": {
        "id": "raja_T0GCqBB"
      }
    },
    {
      "cell_type": "code",
      "source": [
        "# Initializing Random Forest model\n",
        "from sklearn.model_selection import RandomizedSearchCV\n",
        "\n",
        "param_distributions = {\n",
        "    'max_depth': [25, 26, 27, 28],\n",
        "    'max_features': ['auto', 'sqrt'],\n",
        "    'min_samples_split': [8, 10, 12]\n",
        "}\n",
        "\n",
        "gridsearch = RandomizedSearchCV(\n",
        "    RandomForestClassifier(n_estimators=92, n_jobs=-1, random_state=42),\n",
        "    param_distributions=param_distributions,\n",
        "    n_iter=5,       # the number of random combinations of hyperparameters to try\n",
        "    cv=5,           # the number of cross-validation folds to use during training and evaluation\n",
        "    scoring='accuracy',\n",
        "    verbose=10,\n",
        "    return_train_score=True,\n",
        "    n_jobs=-1\n",
        ")\n",
        "\n",
        "# model Fitting\n",
        "gridsearch.fit(X_train, y_train)\n"
      ],
      "metadata": {
        "id": "Oq_btRDMEy-5",
        "colab": {
          "base_uri": "https://localhost:8080/",
          "height": 136
        },
        "outputId": "30834aaf-3be6-4257-f077-a666022e554d"
      },
      "execution_count": null,
      "outputs": [
        {
          "output_type": "stream",
          "name": "stdout",
          "text": [
            "Fitting 5 folds for each of 5 candidates, totalling 25 fits\n"
          ]
        },
        {
          "output_type": "execute_result",
          "data": {
            "text/plain": [
              "RandomizedSearchCV(cv=5,\n",
              "                   estimator=RandomForestClassifier(n_estimators=92, n_jobs=-1,\n",
              "                                                    random_state=42),\n",
              "                   n_iter=5, n_jobs=-1,\n",
              "                   param_distributions={'max_depth': [25, 26, 27, 28],\n",
              "                                        'max_features': ['auto', 'sqrt'],\n",
              "                                        'min_samples_split': [8, 10, 12]},\n",
              "                   return_train_score=True, scoring='accuracy', verbose=10)"
            ],
            "text/html": [
              "<style>#sk-container-id-2 {color: black;background-color: white;}#sk-container-id-2 pre{padding: 0;}#sk-container-id-2 div.sk-toggleable {background-color: white;}#sk-container-id-2 label.sk-toggleable__label {cursor: pointer;display: block;width: 100%;margin-bottom: 0;padding: 0.3em;box-sizing: border-box;text-align: center;}#sk-container-id-2 label.sk-toggleable__label-arrow:before {content: \"▸\";float: left;margin-right: 0.25em;color: #696969;}#sk-container-id-2 label.sk-toggleable__label-arrow:hover:before {color: black;}#sk-container-id-2 div.sk-estimator:hover label.sk-toggleable__label-arrow:before {color: black;}#sk-container-id-2 div.sk-toggleable__content {max-height: 0;max-width: 0;overflow: hidden;text-align: left;background-color: #f0f8ff;}#sk-container-id-2 div.sk-toggleable__content pre {margin: 0.2em;color: black;border-radius: 0.25em;background-color: #f0f8ff;}#sk-container-id-2 input.sk-toggleable__control:checked~div.sk-toggleable__content {max-height: 200px;max-width: 100%;overflow: auto;}#sk-container-id-2 input.sk-toggleable__control:checked~label.sk-toggleable__label-arrow:before {content: \"▾\";}#sk-container-id-2 div.sk-estimator input.sk-toggleable__control:checked~label.sk-toggleable__label {background-color: #d4ebff;}#sk-container-id-2 div.sk-label input.sk-toggleable__control:checked~label.sk-toggleable__label {background-color: #d4ebff;}#sk-container-id-2 input.sk-hidden--visually {border: 0;clip: rect(1px 1px 1px 1px);clip: rect(1px, 1px, 1px, 1px);height: 1px;margin: -1px;overflow: hidden;padding: 0;position: absolute;width: 1px;}#sk-container-id-2 div.sk-estimator {font-family: monospace;background-color: #f0f8ff;border: 1px dotted black;border-radius: 0.25em;box-sizing: border-box;margin-bottom: 0.5em;}#sk-container-id-2 div.sk-estimator:hover {background-color: #d4ebff;}#sk-container-id-2 div.sk-parallel-item::after {content: \"\";width: 100%;border-bottom: 1px solid gray;flex-grow: 1;}#sk-container-id-2 div.sk-label:hover label.sk-toggleable__label {background-color: #d4ebff;}#sk-container-id-2 div.sk-serial::before {content: \"\";position: absolute;border-left: 1px solid gray;box-sizing: border-box;top: 0;bottom: 0;left: 50%;z-index: 0;}#sk-container-id-2 div.sk-serial {display: flex;flex-direction: column;align-items: center;background-color: white;padding-right: 0.2em;padding-left: 0.2em;position: relative;}#sk-container-id-2 div.sk-item {position: relative;z-index: 1;}#sk-container-id-2 div.sk-parallel {display: flex;align-items: stretch;justify-content: center;background-color: white;position: relative;}#sk-container-id-2 div.sk-item::before, #sk-container-id-2 div.sk-parallel-item::before {content: \"\";position: absolute;border-left: 1px solid gray;box-sizing: border-box;top: 0;bottom: 0;left: 50%;z-index: -1;}#sk-container-id-2 div.sk-parallel-item {display: flex;flex-direction: column;z-index: 1;position: relative;background-color: white;}#sk-container-id-2 div.sk-parallel-item:first-child::after {align-self: flex-end;width: 50%;}#sk-container-id-2 div.sk-parallel-item:last-child::after {align-self: flex-start;width: 50%;}#sk-container-id-2 div.sk-parallel-item:only-child::after {width: 0;}#sk-container-id-2 div.sk-dashed-wrapped {border: 1px dashed gray;margin: 0 0.4em 0.5em 0.4em;box-sizing: border-box;padding-bottom: 0.4em;background-color: white;}#sk-container-id-2 div.sk-label label {font-family: monospace;font-weight: bold;display: inline-block;line-height: 1.2em;}#sk-container-id-2 div.sk-label-container {text-align: center;}#sk-container-id-2 div.sk-container {/* jupyter's `normalize.less` sets `[hidden] { display: none; }` but bootstrap.min.css set `[hidden] { display: none !important; }` so we also need the `!important` here to be able to override the default hidden behavior on the sphinx rendered scikit-learn.org. See: https://github.com/scikit-learn/scikit-learn/issues/21755 */display: inline-block !important;position: relative;}#sk-container-id-2 div.sk-text-repr-fallback {display: none;}</style><div id=\"sk-container-id-2\" class=\"sk-top-container\"><div class=\"sk-text-repr-fallback\"><pre>RandomizedSearchCV(cv=5,\n",
              "                   estimator=RandomForestClassifier(n_estimators=92, n_jobs=-1,\n",
              "                                                    random_state=42),\n",
              "                   n_iter=5, n_jobs=-1,\n",
              "                   param_distributions={&#x27;max_depth&#x27;: [25, 26, 27, 28],\n",
              "                                        &#x27;max_features&#x27;: [&#x27;auto&#x27;, &#x27;sqrt&#x27;],\n",
              "                                        &#x27;min_samples_split&#x27;: [8, 10, 12]},\n",
              "                   return_train_score=True, scoring=&#x27;accuracy&#x27;, verbose=10)</pre><b>In a Jupyter environment, please rerun this cell to show the HTML representation or trust the notebook. <br />On GitHub, the HTML representation is unable to render, please try loading this page with nbviewer.org.</b></div><div class=\"sk-container\" hidden><div class=\"sk-item sk-dashed-wrapped\"><div class=\"sk-label-container\"><div class=\"sk-label sk-toggleable\"><input class=\"sk-toggleable__control sk-hidden--visually\" id=\"sk-estimator-id-2\" type=\"checkbox\" ><label for=\"sk-estimator-id-2\" class=\"sk-toggleable__label sk-toggleable__label-arrow\">RandomizedSearchCV</label><div class=\"sk-toggleable__content\"><pre>RandomizedSearchCV(cv=5,\n",
              "                   estimator=RandomForestClassifier(n_estimators=92, n_jobs=-1,\n",
              "                                                    random_state=42),\n",
              "                   n_iter=5, n_jobs=-1,\n",
              "                   param_distributions={&#x27;max_depth&#x27;: [25, 26, 27, 28],\n",
              "                                        &#x27;max_features&#x27;: [&#x27;auto&#x27;, &#x27;sqrt&#x27;],\n",
              "                                        &#x27;min_samples_split&#x27;: [8, 10, 12]},\n",
              "                   return_train_score=True, scoring=&#x27;accuracy&#x27;, verbose=10)</pre></div></div></div><div class=\"sk-parallel\"><div class=\"sk-parallel-item\"><div class=\"sk-item\"><div class=\"sk-label-container\"><div class=\"sk-label sk-toggleable\"><input class=\"sk-toggleable__control sk-hidden--visually\" id=\"sk-estimator-id-3\" type=\"checkbox\" ><label for=\"sk-estimator-id-3\" class=\"sk-toggleable__label sk-toggleable__label-arrow\">estimator: RandomForestClassifier</label><div class=\"sk-toggleable__content\"><pre>RandomForestClassifier(n_estimators=92, n_jobs=-1, random_state=42)</pre></div></div></div><div class=\"sk-serial\"><div class=\"sk-item\"><div class=\"sk-estimator sk-toggleable\"><input class=\"sk-toggleable__control sk-hidden--visually\" id=\"sk-estimator-id-4\" type=\"checkbox\" ><label for=\"sk-estimator-id-4\" class=\"sk-toggleable__label sk-toggleable__label-arrow\">RandomForestClassifier</label><div class=\"sk-toggleable__content\"><pre>RandomForestClassifier(n_estimators=92, n_jobs=-1, random_state=42)</pre></div></div></div></div></div></div></div></div></div></div>"
            ]
          },
          "metadata": {},
          "execution_count": 50
        }
      ]
    },
    {
      "cell_type": "code",
      "source": [
        "results = pd.DataFrame(gridsearch.cv_results_)    # creating a panda DataFrame object from the results of the hyperparameter search\n",
        "print(f'Best result from search of {len(results)} parameter combinations')\n",
        "results.sort_values(by='rank_test_score').head(5) # showning the best scores first"
      ],
      "metadata": {
        "colab": {
          "base_uri": "https://localhost:8080/",
          "height": 490
        },
        "id": "0zAX-uFNoR9c",
        "outputId": "b254e1ed-fd90-4790-dd2f-0218d69b78b3"
      },
      "execution_count": null,
      "outputs": [
        {
          "output_type": "stream",
          "name": "stdout",
          "text": [
            "Best result from search of 5 parameter combinations\n"
          ]
        },
        {
          "output_type": "execute_result",
          "data": {
            "text/plain": [
              "   mean_fit_time  std_fit_time  mean_score_time  std_score_time  \\\n",
              "1       9.104053      0.618277         0.359705        0.063339   \n",
              "3       9.092888      0.611312         0.370741        0.036396   \n",
              "4       8.199795      1.991761         0.280497        0.081309   \n",
              "2       8.815290      0.521050         0.386687        0.100790   \n",
              "0       9.780401      1.173316         0.353572        0.035655   \n",
              "\n",
              "  param_min_samples_split param_max_features param_max_depth  \\\n",
              "1                       8               sqrt              27   \n",
              "3                       8               auto              27   \n",
              "4                      12               auto              26   \n",
              "2                      10               auto              25   \n",
              "0                      12               auto              27   \n",
              "\n",
              "                                              params  split0_test_score  \\\n",
              "1  {'min_samples_split': 8, 'max_features': 'sqrt...           0.797995   \n",
              "3  {'min_samples_split': 8, 'max_features': 'auto...           0.797995   \n",
              "4  {'min_samples_split': 12, 'max_features': 'aut...           0.796648   \n",
              "2  {'min_samples_split': 10, 'max_features': 'aut...           0.796648   \n",
              "0  {'min_samples_split': 12, 'max_features': 'aut...           0.795451   \n",
              "\n",
              "   split1_test_score  ...  mean_test_score  std_test_score  rank_test_score  \\\n",
              "1           0.794254  ...         0.798576        0.004300                1   \n",
              "3           0.794254  ...         0.798576        0.004300                1   \n",
              "4           0.792159  ...         0.796600        0.003609                3   \n",
              "2           0.790813  ...         0.796510        0.003931                4   \n",
              "0           0.795002  ...         0.795433        0.003094                5   \n",
              "\n",
              "   split0_train_score  split1_train_score  split2_train_score  \\\n",
              "1            0.881140            0.883984            0.884961   \n",
              "3            0.881140            0.883984            0.884961   \n",
              "4            0.859890            0.859217            0.860681   \n",
              "2            0.863594            0.864529            0.864908   \n",
              "0            0.861424            0.863257            0.863711   \n",
              "\n",
              "   split3_train_score  split4_train_score  mean_train_score  std_train_score  \n",
              "1            0.883315            0.883427          0.883365         0.001256  \n",
              "3            0.883315            0.883427          0.883365         0.001256  \n",
              "4            0.859259            0.860456          0.859901         0.000600  \n",
              "2            0.862851            0.863562          0.863889         0.000738  \n",
              "0            0.860269            0.861504          0.862033         0.001271  \n",
              "\n",
              "[5 rows x 23 columns]"
            ],
            "text/html": [
              "\n",
              "  <div id=\"df-03845407-fc77-4c35-ab8f-609f3118d4bb\">\n",
              "    <div class=\"colab-df-container\">\n",
              "      <div>\n",
              "<style scoped>\n",
              "    .dataframe tbody tr th:only-of-type {\n",
              "        vertical-align: middle;\n",
              "    }\n",
              "\n",
              "    .dataframe tbody tr th {\n",
              "        vertical-align: top;\n",
              "    }\n",
              "\n",
              "    .dataframe thead th {\n",
              "        text-align: right;\n",
              "    }\n",
              "</style>\n",
              "<table border=\"1\" class=\"dataframe\">\n",
              "  <thead>\n",
              "    <tr style=\"text-align: right;\">\n",
              "      <th></th>\n",
              "      <th>mean_fit_time</th>\n",
              "      <th>std_fit_time</th>\n",
              "      <th>mean_score_time</th>\n",
              "      <th>std_score_time</th>\n",
              "      <th>param_min_samples_split</th>\n",
              "      <th>param_max_features</th>\n",
              "      <th>param_max_depth</th>\n",
              "      <th>params</th>\n",
              "      <th>split0_test_score</th>\n",
              "      <th>split1_test_score</th>\n",
              "      <th>...</th>\n",
              "      <th>mean_test_score</th>\n",
              "      <th>std_test_score</th>\n",
              "      <th>rank_test_score</th>\n",
              "      <th>split0_train_score</th>\n",
              "      <th>split1_train_score</th>\n",
              "      <th>split2_train_score</th>\n",
              "      <th>split3_train_score</th>\n",
              "      <th>split4_train_score</th>\n",
              "      <th>mean_train_score</th>\n",
              "      <th>std_train_score</th>\n",
              "    </tr>\n",
              "  </thead>\n",
              "  <tbody>\n",
              "    <tr>\n",
              "      <th>1</th>\n",
              "      <td>9.104053</td>\n",
              "      <td>0.618277</td>\n",
              "      <td>0.359705</td>\n",
              "      <td>0.063339</td>\n",
              "      <td>8</td>\n",
              "      <td>sqrt</td>\n",
              "      <td>27</td>\n",
              "      <td>{'min_samples_split': 8, 'max_features': 'sqrt...</td>\n",
              "      <td>0.797995</td>\n",
              "      <td>0.794254</td>\n",
              "      <td>...</td>\n",
              "      <td>0.798576</td>\n",
              "      <td>0.004300</td>\n",
              "      <td>1</td>\n",
              "      <td>0.881140</td>\n",
              "      <td>0.883984</td>\n",
              "      <td>0.884961</td>\n",
              "      <td>0.883315</td>\n",
              "      <td>0.883427</td>\n",
              "      <td>0.883365</td>\n",
              "      <td>0.001256</td>\n",
              "    </tr>\n",
              "    <tr>\n",
              "      <th>3</th>\n",
              "      <td>9.092888</td>\n",
              "      <td>0.611312</td>\n",
              "      <td>0.370741</td>\n",
              "      <td>0.036396</td>\n",
              "      <td>8</td>\n",
              "      <td>auto</td>\n",
              "      <td>27</td>\n",
              "      <td>{'min_samples_split': 8, 'max_features': 'auto...</td>\n",
              "      <td>0.797995</td>\n",
              "      <td>0.794254</td>\n",
              "      <td>...</td>\n",
              "      <td>0.798576</td>\n",
              "      <td>0.004300</td>\n",
              "      <td>1</td>\n",
              "      <td>0.881140</td>\n",
              "      <td>0.883984</td>\n",
              "      <td>0.884961</td>\n",
              "      <td>0.883315</td>\n",
              "      <td>0.883427</td>\n",
              "      <td>0.883365</td>\n",
              "      <td>0.001256</td>\n",
              "    </tr>\n",
              "    <tr>\n",
              "      <th>4</th>\n",
              "      <td>8.199795</td>\n",
              "      <td>1.991761</td>\n",
              "      <td>0.280497</td>\n",
              "      <td>0.081309</td>\n",
              "      <td>12</td>\n",
              "      <td>auto</td>\n",
              "      <td>26</td>\n",
              "      <td>{'min_samples_split': 12, 'max_features': 'aut...</td>\n",
              "      <td>0.796648</td>\n",
              "      <td>0.792159</td>\n",
              "      <td>...</td>\n",
              "      <td>0.796600</td>\n",
              "      <td>0.003609</td>\n",
              "      <td>3</td>\n",
              "      <td>0.859890</td>\n",
              "      <td>0.859217</td>\n",
              "      <td>0.860681</td>\n",
              "      <td>0.859259</td>\n",
              "      <td>0.860456</td>\n",
              "      <td>0.859901</td>\n",
              "      <td>0.000600</td>\n",
              "    </tr>\n",
              "    <tr>\n",
              "      <th>2</th>\n",
              "      <td>8.815290</td>\n",
              "      <td>0.521050</td>\n",
              "      <td>0.386687</td>\n",
              "      <td>0.100790</td>\n",
              "      <td>10</td>\n",
              "      <td>auto</td>\n",
              "      <td>25</td>\n",
              "      <td>{'min_samples_split': 10, 'max_features': 'aut...</td>\n",
              "      <td>0.796648</td>\n",
              "      <td>0.790813</td>\n",
              "      <td>...</td>\n",
              "      <td>0.796510</td>\n",
              "      <td>0.003931</td>\n",
              "      <td>4</td>\n",
              "      <td>0.863594</td>\n",
              "      <td>0.864529</td>\n",
              "      <td>0.864908</td>\n",
              "      <td>0.862851</td>\n",
              "      <td>0.863562</td>\n",
              "      <td>0.863889</td>\n",
              "      <td>0.000738</td>\n",
              "    </tr>\n",
              "    <tr>\n",
              "      <th>0</th>\n",
              "      <td>9.780401</td>\n",
              "      <td>1.173316</td>\n",
              "      <td>0.353572</td>\n",
              "      <td>0.035655</td>\n",
              "      <td>12</td>\n",
              "      <td>auto</td>\n",
              "      <td>27</td>\n",
              "      <td>{'min_samples_split': 12, 'max_features': 'aut...</td>\n",
              "      <td>0.795451</td>\n",
              "      <td>0.795002</td>\n",
              "      <td>...</td>\n",
              "      <td>0.795433</td>\n",
              "      <td>0.003094</td>\n",
              "      <td>5</td>\n",
              "      <td>0.861424</td>\n",
              "      <td>0.863257</td>\n",
              "      <td>0.863711</td>\n",
              "      <td>0.860269</td>\n",
              "      <td>0.861504</td>\n",
              "      <td>0.862033</td>\n",
              "      <td>0.001271</td>\n",
              "    </tr>\n",
              "  </tbody>\n",
              "</table>\n",
              "<p>5 rows × 23 columns</p>\n",
              "</div>\n",
              "      <button class=\"colab-df-convert\" onclick=\"convertToInteractive('df-03845407-fc77-4c35-ab8f-609f3118d4bb')\"\n",
              "              title=\"Convert this dataframe to an interactive table.\"\n",
              "              style=\"display:none;\">\n",
              "        \n",
              "  <svg xmlns=\"http://www.w3.org/2000/svg\" height=\"24px\"viewBox=\"0 0 24 24\"\n",
              "       width=\"24px\">\n",
              "    <path d=\"M0 0h24v24H0V0z\" fill=\"none\"/>\n",
              "    <path d=\"M18.56 5.44l.94 2.06.94-2.06 2.06-.94-2.06-.94-.94-2.06-.94 2.06-2.06.94zm-11 1L8.5 8.5l.94-2.06 2.06-.94-2.06-.94L8.5 2.5l-.94 2.06-2.06.94zm10 10l.94 2.06.94-2.06 2.06-.94-2.06-.94-.94-2.06-.94 2.06-2.06.94z\"/><path d=\"M17.41 7.96l-1.37-1.37c-.4-.4-.92-.59-1.43-.59-.52 0-1.04.2-1.43.59L10.3 9.45l-7.72 7.72c-.78.78-.78 2.05 0 2.83L4 21.41c.39.39.9.59 1.41.59.51 0 1.02-.2 1.41-.59l7.78-7.78 2.81-2.81c.8-.78.8-2.07 0-2.86zM5.41 20L4 18.59l7.72-7.72 1.47 1.35L5.41 20z\"/>\n",
              "  </svg>\n",
              "      </button>\n",
              "      \n",
              "  <style>\n",
              "    .colab-df-container {\n",
              "      display:flex;\n",
              "      flex-wrap:wrap;\n",
              "      gap: 12px;\n",
              "    }\n",
              "\n",
              "    .colab-df-convert {\n",
              "      background-color: #E8F0FE;\n",
              "      border: none;\n",
              "      border-radius: 50%;\n",
              "      cursor: pointer;\n",
              "      display: none;\n",
              "      fill: #1967D2;\n",
              "      height: 32px;\n",
              "      padding: 0 0 0 0;\n",
              "      width: 32px;\n",
              "    }\n",
              "\n",
              "    .colab-df-convert:hover {\n",
              "      background-color: #E2EBFA;\n",
              "      box-shadow: 0px 1px 2px rgba(60, 64, 67, 0.3), 0px 1px 3px 1px rgba(60, 64, 67, 0.15);\n",
              "      fill: #174EA6;\n",
              "    }\n",
              "\n",
              "    [theme=dark] .colab-df-convert {\n",
              "      background-color: #3B4455;\n",
              "      fill: #D2E3FC;\n",
              "    }\n",
              "\n",
              "    [theme=dark] .colab-df-convert:hover {\n",
              "      background-color: #434B5C;\n",
              "      box-shadow: 0px 1px 3px 1px rgba(0, 0, 0, 0.15);\n",
              "      filter: drop-shadow(0px 1px 2px rgba(0, 0, 0, 0.3));\n",
              "      fill: #FFFFFF;\n",
              "    }\n",
              "  </style>\n",
              "\n",
              "      <script>\n",
              "        const buttonEl =\n",
              "          document.querySelector('#df-03845407-fc77-4c35-ab8f-609f3118d4bb button.colab-df-convert');\n",
              "        buttonEl.style.display =\n",
              "          google.colab.kernel.accessAllowed ? 'block' : 'none';\n",
              "\n",
              "        async function convertToInteractive(key) {\n",
              "          const element = document.querySelector('#df-03845407-fc77-4c35-ab8f-609f3118d4bb');\n",
              "          const dataTable =\n",
              "            await google.colab.kernel.invokeFunction('convertToInteractive',\n",
              "                                                     [key], {});\n",
              "          if (!dataTable) return;\n",
              "\n",
              "          const docLinkHtml = 'Like what you see? Visit the ' +\n",
              "            '<a target=\"_blank\" href=https://colab.research.google.com/notebooks/data_table.ipynb>data table notebook</a>'\n",
              "            + ' to learn more about interactive tables.';\n",
              "          element.innerHTML = '';\n",
              "          dataTable['output_type'] = 'display_data';\n",
              "          await google.colab.output.renderOutput(dataTable, element);\n",
              "          const docLink = document.createElement('div');\n",
              "          docLink.innerHTML = docLinkHtml;\n",
              "          element.appendChild(docLink);\n",
              "        }\n",
              "      </script>\n",
              "    </div>\n",
              "  </div>\n",
              "  "
            ]
          },
          "metadata": {},
          "execution_count": 51
        }
      ]
    },
    {
      "cell_type": "code",
      "source": [
        "model_rf = gridsearch.best_estimator_"
      ],
      "metadata": {
        "id": "1MMlEjNtoV4c"
      },
      "execution_count": null,
      "outputs": []
    },
    {
      "cell_type": "code",
      "source": [
        "def con_matrix(model):   # defining a function and taking \"model\" as the input\n",
        "  x = model.predict(X_train)   # predicting on training data and storing in x\n",
        "  y = y_train            # actual target values stored in y\n",
        "\n",
        "  print(classification_report(y, x, target_names=['Functional', 'Needs Repair', 'Not-Functional']))\n",
        "\n",
        "# Computing the confusion matrix as a 2D array, index = actual target values and columns = predicated values\n",
        "\n",
        "  con_matrix = pd.DataFrame(confusion_matrix(y, x),\n",
        "             columns=['Predicted Functional', 'Predicted Needs Repair', 'Predicted Not-Functional'],\n",
        "             index=['Actual Functional', 'Actual Needs Repair', 'Actual Not-Functional'])\n",
        "\n",
        "# Heatmap Visualization\n",
        "\n",
        "  sns.heatmap(data=con_matrix, cmap='cool')\n",
        "  cm = confusion_matrix(y,x)\n",
        "  plot_confusion_matrix(cm)\n",
        "\n",
        "  plt.show();\n",
        "  return con_matrix"
      ],
      "metadata": {
        "id": "cVM4xjp_pMpR"
      },
      "execution_count": null,
      "outputs": []
    },
    {
      "cell_type": "code",
      "source": [
        "con_matrix(model_rf)"
      ],
      "metadata": {
        "colab": {
          "base_uri": "https://localhost:8080/",
          "height": 1000
        },
        "id": "OBkk9QeypVpR",
        "outputId": "fd0016db-f2cb-46b5-a84b-fdd5f93926a0"
      },
      "execution_count": null,
      "outputs": [
        {
          "output_type": "stream",
          "name": "stdout",
          "text": [
            "                precision    recall  f1-score   support\n",
            "\n",
            "    Functional       0.85      0.97      0.91     18155\n",
            "  Needs Repair       0.87      0.40      0.55      2410\n",
            "Not-Functional       0.94      0.85      0.89     12847\n",
            "\n",
            "      accuracy                           0.88     33412\n",
            "     macro avg       0.89      0.74      0.78     33412\n",
            "  weighted avg       0.89      0.88      0.88     33412\n",
            "\n"
          ]
        },
        {
          "output_type": "display_data",
          "data": {
            "text/plain": [
              "<Figure size 640x480 with 2 Axes>"
            ],
            "image/png": "[encoded data removed]"
          },
          "metadata": {}
        },
        {
          "output_type": "display_data",
          "data": {
            "text/plain": [
              "<Figure size 640x480 with 1 Axes>"
            ],
            "image/png": "[encoded data removed]"
          },
          "metadata": {}
        },
        {
          "output_type": "execute_result",
          "data": {
            "text/plain": [
              "                       Predicted Functional  Predicted Needs Repair  \\\n",
              "Actual Functional                     17612                      88   \n",
              "Actual Needs Repair                    1197                     963   \n",
              "Actual Not-Functional                  1856                      61   \n",
              "\n",
              "                       Predicted Not-Functional  \n",
              "Actual Functional                           455  \n",
              "Actual Needs Repair                         250  \n",
              "Actual Not-Functional                     10930  "
            ],
            "text/html": [
              "\n",
              "  <div id=\"df-8d9eebe5-abc4-4c15-8bc1-7e1762cc7e2a\">\n",
              "    <div class=\"colab-df-container\">\n",
              "      <div>\n",
              "<style scoped>\n",
              "    .dataframe tbody tr th:only-of-type {\n",
              "        vertical-align: middle;\n",
              "    }\n",
              "\n",
              "    .dataframe tbody tr th {\n",
              "        vertical-align: top;\n",
              "    }\n",
              "\n",
              "    .dataframe thead th {\n",
              "        text-align: right;\n",
              "    }\n",
              "</style>\n",
              "<table border=\"1\" class=\"dataframe\">\n",
              "  <thead>\n",
              "    <tr style=\"text-align: right;\">\n",
              "      <th></th>\n",
              "      <th>Predicted Functional</th>\n",
              "      <th>Predicted Needs Repair</th>\n",
              "      <th>Predicted Not-Functional</th>\n",
              "    </tr>\n",
              "  </thead>\n",
              "  <tbody>\n",
              "    <tr>\n",
              "      <th>Actual Functional</th>\n",
              "      <td>17612</td>\n",
              "      <td>88</td>\n",
              "      <td>455</td>\n",
              "    </tr>\n",
              "    <tr>\n",
              "      <th>Actual Needs Repair</th>\n",
              "      <td>1197</td>\n",
              "      <td>963</td>\n",
              "      <td>250</td>\n",
              "    </tr>\n",
              "    <tr>\n",
              "      <th>Actual Not-Functional</th>\n",
              "      <td>1856</td>\n",
              "      <td>61</td>\n",
              "      <td>10930</td>\n",
              "    </tr>\n",
              "  </tbody>\n",
              "</table>\n",
              "</div>\n",
              "      <button class=\"colab-df-convert\" onclick=\"convertToInteractive('df-8d9eebe5-abc4-4c15-8bc1-7e1762cc7e2a')\"\n",
              "              title=\"Convert this dataframe to an interactive table.\"\n",
              "              style=\"display:none;\">\n",
              "        \n",
              "  <svg xmlns=\"http://www.w3.org/2000/svg\" height=\"24px\"viewBox=\"0 0 24 24\"\n",
              "       width=\"24px\">\n",
              "    <path d=\"M0 0h24v24H0V0z\" fill=\"none\"/>\n",
              "    <path d=\"M18.56 5.44l.94 2.06.94-2.06 2.06-.94-2.06-.94-.94-2.06-.94 2.06-2.06.94zm-11 1L8.5 8.5l.94-2.06 2.06-.94-2.06-.94L8.5 2.5l-.94 2.06-2.06.94zm10 10l.94 2.06.94-2.06 2.06-.94-2.06-.94-.94-2.06-.94 2.06-2.06.94z\"/><path d=\"M17.41 7.96l-1.37-1.37c-.4-.4-.92-.59-1.43-.59-.52 0-1.04.2-1.43.59L10.3 9.45l-7.72 7.72c-.78.78-.78 2.05 0 2.83L4 21.41c.39.39.9.59 1.41.59.51 0 1.02-.2 1.41-.59l7.78-7.78 2.81-2.81c.8-.78.8-2.07 0-2.86zM5.41 20L4 18.59l7.72-7.72 1.47 1.35L5.41 20z\"/>\n",
              "  </svg>\n",
              "      </button>\n",
              "      \n",
              "  <style>\n",
              "    .colab-df-container {\n",
              "      display:flex;\n",
              "      flex-wrap:wrap;\n",
              "      gap: 12px;\n",
              "    }\n",
              "\n",
              "    .colab-df-convert {\n",
              "      background-color: #E8F0FE;\n",
              "      border: none;\n",
              "      border-radius: 50%;\n",
              "      cursor: pointer;\n",
              "      display: none;\n",
              "      fill: #1967D2;\n",
              "      height: 32px;\n",
              "      padding: 0 0 0 0;\n",
              "      width: 32px;\n",
              "    }\n",
              "\n",
              "    .colab-df-convert:hover {\n",
              "      background-color: #E2EBFA;\n",
              "      box-shadow: 0px 1px 2px rgba(60, 64, 67, 0.3), 0px 1px 3px 1px rgba(60, 64, 67, 0.15);\n",
              "      fill: #174EA6;\n",
              "    }\n",
              "\n",
              "    [theme=dark] .colab-df-convert {\n",
              "      background-color: #3B4455;\n",
              "      fill: #D2E3FC;\n",
              "    }\n",
              "\n",
              "    [theme=dark] .colab-df-convert:hover {\n",
              "      background-color: #434B5C;\n",
              "      box-shadow: 0px 1px 3px 1px rgba(0, 0, 0, 0.15);\n",
              "      filter: drop-shadow(0px 1px 2px rgba(0, 0, 0, 0.3));\n",
              "      fill: #FFFFFF;\n",
              "    }\n",
              "  </style>\n",
              "\n",
              "      <script>\n",
              "        const buttonEl =\n",
              "          document.querySelector('#df-8d9eebe5-abc4-4c15-8bc1-7e1762cc7e2a button.colab-df-convert');\n",
              "        buttonEl.style.display =\n",
              "          google.colab.kernel.accessAllowed ? 'block' : 'none';\n",
              "\n",
              "        async function convertToInteractive(key) {\n",
              "          const element = document.querySelector('#df-8d9eebe5-abc4-4c15-8bc1-7e1762cc7e2a');\n",
              "          const dataTable =\n",
              "            await google.colab.kernel.invokeFunction('convertToInteractive',\n",
              "                                                     [key], {});\n",
              "          if (!dataTable) return;\n",
              "\n",
              "          const docLinkHtml = 'Like what you see? Visit the ' +\n",
              "            '<a target=\"_blank\" href=https://colab.research.google.com/notebooks/data_table.ipynb>data table notebook</a>'\n",
              "            + ' to learn more about interactive tables.';\n",
              "          element.innerHTML = '';\n",
              "          dataTable['output_type'] = 'display_data';\n",
              "          await google.colab.output.renderOutput(dataTable, element);\n",
              "          const docLink = document.createElement('div');\n",
              "          docLink.innerHTML = docLinkHtml;\n",
              "          element.appendChild(docLink);\n",
              "        }\n",
              "      </script>\n",
              "    </div>\n",
              "  </div>\n",
              "  "
            ]
          },
          "metadata": {},
          "execution_count": 54
        }
      ]
    },
    {
      "cell_type": "code",
      "source": [
        "y_pred_rf = model_rf.predict(X_test)\n",
        "rf_accuracy = accuracy_score(y_test, y_pred_rf)\n",
        "print('Random Forest Accuracy: ', rf_accuracy)\n",
        "\n",
        "confusion_rf = confusion_matrix(y_test, y_pred_rf)\n",
        "\n",
        "plot_confusion_matrix(confusion_rf)\n",
        "plt.show()"
      ],
      "metadata": {
        "colab": {
          "base_uri": "https://localhost:8080/",
          "height": 466
        },
        "id": "UIbtqMdFSec2",
        "outputId": "1e78d79a-2cee-456b-92bd-3995ce7fc593"
      },
      "execution_count": null,
      "outputs": [
        {
          "output_type": "stream",
          "name": "stdout",
          "text": [
            "Random Forest Accuracy:  0.7894595079906626\n"
          ]
        },
        {
          "output_type": "display_data",
          "data": {
            "text/plain": [
              "<Figure size 640x480 with 1 Axes>"
            ],
            "image/png": "[encoded data removed]"
          },
          "metadata": {}
        }
      ]
    },
    {
      "cell_type": "markdown",
      "source": [
        "##Tensor Flow Model"
      ],
      "metadata": {
        "id": "vK7hnsBgCsoU"
      }
    },
    {
      "cell_type": "code",
      "source": [
        "# Convert dataset (NumPy array) to a TensorFlow tensor\n",
        "train_data_tensor = tf.convert_to_tensor(X_train)\n",
        "train_labels_tensor = tf.convert_to_tensor(y_train)"
      ],
      "metadata": {
        "id": "PB5pfOYHW6wt"
      },
      "execution_count": null,
      "outputs": []
    },
    {
      "cell_type": "code",
      "source": [
        "\"\"\"\n",
        "def create_model(neurons=64, hidden_layers=1, optimizer='adam'):\n",
        "    tf_model = tf.keras.Sequential()\n",
        "    tf_model.add(tf.keras.layers.Dense(neurons, activation='relu', input_shape=(243,)))\n",
        "    for i in range(hidden_layers):\n",
        "        tf_model.add(tf.keras.layers.Dense(neurons, activation='relu'))\n",
        "    tf_model.add(tf.keras.layers.Dense(10, activation='softmax'))\n",
        "    tf_model.compile(optimizer=optimizer,\n",
        "                  loss='sparse_categorical_crossentropy',\n",
        "                  metrics=['accuracy'])\n",
        "    return tf_model\n",
        "\"\"\""
      ],
      "metadata": {
        "id": "Ut4x2T95gdTz",
        "colab": {
          "base_uri": "https://localhost:8080/",
          "height": 70
        },
        "outputId": "bf980a00-9c2a-4224-e3a7-c0f86bb803f6"
      },
      "execution_count": null,
      "outputs": [
        {
          "output_type": "execute_result",
          "data": {
            "text/plain": [
              "\"\\ndef create_model(neurons=64, hidden_layers=1, optimizer='adam'):\\n    tf_model = tf.keras.Sequential()\\n    tf_model.add(tf.keras.layers.Dense(neurons, activation='relu', input_shape=(243,)))\\n    for i in range(hidden_layers):\\n        tf_model.add(tf.keras.layers.Dense(neurons, activation='relu'))\\n    tf_model.add(tf.keras.layers.Dense(10, activation='softmax'))\\n    tf_model.compile(optimizer=optimizer,\\n                  loss='sparse_categorical_crossentropy',\\n                  metrics=['accuracy'])\\n    return tf_model\\n\""
            ],
            "application/vnd.google.colaboratory.intrinsic+json": {
              "type": "string"
            }
          },
          "metadata": {},
          "execution_count": 57
        }
      ]
    },
    {
      "cell_type": "code",
      "source": [
        "#tf_model = KerasClassifier(build_fn=create_model, verbose=0)"
      ],
      "metadata": {
        "id": "k_asFxorgkYb"
      },
      "execution_count": null,
      "outputs": []
    },
    {
      "cell_type": "markdown",
      "source": [
        "### Hyperparameter Tuning"
      ],
      "metadata": {
        "id": "dPEn60UU69nX"
      }
    },
    {
      "cell_type": "code",
      "source": [
        "#hyperparameters to tune\n",
        "\"\"\"\n",
        "param_grid = {\n",
        "    'batch_size': [16, 32, 64],\n",
        "    'epochs': [10, 20, 30],\n",
        "    'optimizer': ['adam', 'sgd', 'rmsprop'],\n",
        "    'hidden_layers': [1, 2, 3],\n",
        "    'neurons': [64, 128, 256]\n",
        "}\n",
        "\"\"\""
      ],
      "metadata": {
        "id": "MPMnqlF5gnxj",
        "colab": {
          "base_uri": "https://localhost:8080/",
          "height": 35
        },
        "outputId": "5cb8c31f-6762-4b10-f67f-0de12c9f5aaa"
      },
      "execution_count": null,
      "outputs": [
        {
          "output_type": "execute_result",
          "data": {
            "text/plain": [
              "\"\\nparam_grid = {\\n    'batch_size': [16, 32, 64],\\n    'epochs': [10, 20, 30],\\n    'optimizer': ['adam', 'sgd', 'rmsprop'],\\n    'hidden_layers': [1, 2, 3],\\n    'neurons': [64, 128, 256]\\n}\\n\""
            ],
            "application/vnd.google.colaboratory.intrinsic+json": {
              "type": "string"
            }
          },
          "metadata": {},
          "execution_count": 59
        }
      ]
    },
    {
      "cell_type": "code",
      "source": [
        "# grid search cross-validation\n",
        "\"\"\"\n",
        "grid = GridSearchCV(estimator=tf_model, param_grid=param_grid, cv=3)\n",
        "grid_result = grid.fit(X_train, y_train)\n",
        "\"\"\""
      ],
      "metadata": {
        "colab": {
          "base_uri": "https://localhost:8080/",
          "height": 35
        },
        "id": "fhP4Jl3ziep3",
        "outputId": "14151db8-9fca-449e-ef77-0cdafc71c031"
      },
      "execution_count": null,
      "outputs": [
        {
          "output_type": "execute_result",
          "data": {
            "text/plain": [
              "'\\ngrid = GridSearchCV(estimator=tf_model, param_grid=param_grid, cv=3)\\ngrid_result = grid.fit(X_train, y_train)\\n'"
            ],
            "application/vnd.google.colaboratory.intrinsic+json": {
              "type": "string"
            }
          },
          "metadata": {},
          "execution_count": 60
        }
      ]
    },
    {
      "cell_type": "code",
      "source": [
        "# print the best parameters and accuracy\n",
        "\"\"\"\n",
        "print(\"Best parameters: \", grid_result.best_params_)\n",
        "print(\"Best accuracy: \", grid_result.best_score_)\n",
        "\"\"\""
      ],
      "metadata": {
        "id": "wvEcxAYOigVW",
        "colab": {
          "base_uri": "https://localhost:8080/",
          "height": 35
        },
        "outputId": "9741bb05-2277-4426-b67f-3556585fd400"
      },
      "execution_count": null,
      "outputs": [
        {
          "output_type": "execute_result",
          "data": {
            "text/plain": [
              "'\\nprint(\"Best parameters: \", grid_result.best_params_)\\nprint(\"Best accuracy: \", grid_result.best_score_)\\n'"
            ],
            "application/vnd.google.colaboratory.intrinsic+json": {
              "type": "string"
            }
          },
          "metadata": {},
          "execution_count": 61
        }
      ]
    },
    {
      "cell_type": "markdown",
      "source": [
        "### Training the model"
      ],
      "metadata": {
        "id": "yt7WYwEg7MLn"
      }
    },
    {
      "cell_type": "code",
      "source": [
        "# initiate model\n",
        "model_mlp = tf.keras.Sequential([\n",
        "    tf.keras.layers.Dense(128, activation='relu', input_shape=(243,)),\n",
        "    tf.keras.layers.Dense(64, activation='relu'),\n",
        "    tf.keras.layers.Dense(32, activation='relu'),\n",
        "    tf.keras.layers.Dense(10, activation='softmax')\n",
        "])\n",
        "\n",
        "# compile model\n",
        "model_mlp.compile(optimizer='adam',\n",
        "              loss='sparse_categorical_crossentropy',\n",
        "              metrics=['accuracy'])\n",
        "\n",
        "# train model\n",
        "model_mlp.fit(train_data_tensor, train_labels_tensor, epochs=10, batch_size=32)"
      ],
      "metadata": {
        "colab": {
          "base_uri": "https://localhost:8080/"
        },
        "id": "Ex2C-5p_WWSR",
        "outputId": "e9a8035e-3310-4bd4-d2af-0074f6a4d491"
      },
      "execution_count": null,
      "outputs": [
        {
          "output_type": "stream",
          "name": "stdout",
          "text": [
            "Epoch 1/10\n",
            "1045/1045 [==============================] - 3s 2ms/step - loss: 0.6541 - accuracy: 0.7333\n",
            "Epoch 2/10\n",
            "1045/1045 [==============================] - 2s 2ms/step - loss: 0.5631 - accuracy: 0.7654\n",
            "Epoch 3/10\n",
            "1045/1045 [==============================] - 3s 3ms/step - loss: 0.5372 - accuracy: 0.7776\n",
            "Epoch 4/10\n",
            "1045/1045 [==============================] - 3s 3ms/step - loss: 0.5206 - accuracy: 0.7837\n",
            "Epoch 5/10\n",
            "1045/1045 [==============================] - 2s 2ms/step - loss: 0.5055 - accuracy: 0.7896\n",
            "Epoch 6/10\n",
            "1045/1045 [==============================] - 2s 2ms/step - loss: 0.4944 - accuracy: 0.7950\n",
            "Epoch 7/10\n",
            "1045/1045 [==============================] - 2s 2ms/step - loss: 0.4859 - accuracy: 0.8002\n",
            "Epoch 8/10\n",
            "1045/1045 [==============================] - 2s 2ms/step - loss: 0.4778 - accuracy: 0.7995\n",
            "Epoch 9/10\n",
            "1045/1045 [==============================] - 3s 3ms/step - loss: 0.4700 - accuracy: 0.8054\n",
            "Epoch 10/10\n",
            "1045/1045 [==============================] - 2s 2ms/step - loss: 0.4625 - accuracy: 0.8074\n"
          ]
        },
        {
          "output_type": "execute_result",
          "data": {
            "text/plain": [
              "<keras.callbacks.History at 0x7f455b5bfeb0>"
            ]
          },
          "metadata": {},
          "execution_count": 62
        }
      ]
    },
    {
      "cell_type": "code",
      "source": [
        "loss, tft_accuracy = model_mlp.evaluate(X_train, y_train,  batch_size = 10, verbose=2)\n",
        "print(\"\\n Training Accuracy:\", tft_accuracy)"
      ],
      "metadata": {
        "colab": {
          "base_uri": "https://localhost:8080/"
        },
        "id": "ptnSjfHpYNBh",
        "outputId": "93d1afa7-34bf-4ca8-d5d2-0fac93762d3a"
      },
      "execution_count": null,
      "outputs": [
        {
          "output_type": "stream",
          "name": "stdout",
          "text": [
            "3342/3342 - 4s - loss: 0.4383 - accuracy: 0.8159 - 4s/epoch - 1ms/step\n",
            "\n",
            " Training Accuracy: 0.815934419631958\n"
          ]
        }
      ]
    },
    {
      "cell_type": "code",
      "source": [
        "# Make predictions on test data\n",
        "predictions = model_mlp.predict(X_test)\n",
        "y_pred_tf = np.argmax(predictions, axis=1)\n",
        "\n",
        "tf_accuracy = accuracy_score(y_test, y_pred_tf)\n",
        "print(\"Test Accuracy:\", tf_accuracy)"
      ],
      "metadata": {
        "colab": {
          "base_uri": "https://localhost:8080/"
        },
        "id": "23pdFX6qbSbZ",
        "outputId": "c06817fa-d278-4073-8293-8dbdd25dc9f7"
      },
      "execution_count": null,
      "outputs": [
        {
          "output_type": "stream",
          "name": "stdout",
          "text": [
            "349/349 [==============================] - 1s 1ms/step\n",
            "Test Accuracy: 0.7696175255880768\n"
          ]
        }
      ]
    },
    {
      "cell_type": "code",
      "source": [
        "# Compute precision, recall, and F1 score\n",
        "precision = precision_score(y_test, y_pred_tf, average='macro')\n",
        "recall = recall_score(y_test, y_pred_tf, average='macro')\n",
        "f1 = f1_score(y_test, y_pred_tf, average='macro')\n",
        "\n",
        "# Compute the confusion matrix of the model\n",
        "tf_confusion = confusion_matrix(y_test, y_pred_tf)\n",
        "plot_confusion_matrix(tf_confusion)\n",
        "plt.show()\n",
        "\n",
        "# Print scores\n",
        "print(\"Precision:\", precision)\n",
        "print(\"Recall:\", recall)\n",
        "print(\"F1 score:\", f1)"
      ],
      "metadata": {
        "colab": {
          "base_uri": "https://localhost:8080/",
          "height": 501
        },
        "id": "m-E4vwkjqDe8",
        "outputId": "7f4e0d5d-5503-4493-9604-c32fe74a924b"
      },
      "execution_count": null,
      "outputs": [
        {
          "output_type": "display_data",
          "data": {
            "text/plain": [
              "<Figure size 640x480 with 1 Axes>"
            ],
            "image/png": "[encoded data removed]"
          },
          "metadata": {}
        },
        {
          "output_type": "stream",
          "name": "stdout",
          "text": [
            "Precision: 0.7032682382700685\n",
            "Recall: 0.6022201960628631\n",
            "F1 score: 0.6259718785398066\n"
          ]
        }
      ]
    },
    {
      "cell_type": "markdown",
      "source": [
        "The top left value (5353) represents the number of instances that were actually in class 0 and were predicted as class 0.\n",
        "\n",
        "The middle value in the first row (130) represents the number of instances that were actually in class 0 but were predicted as class 1.\n",
        "\n",
        "The last value in the first row (556) represents the number of instances that were actually in class 0 but were predicted as class 2.\n",
        "\n",
        "The second row represents class 1, and the values follow a similar interpretation as for class 0.\n",
        "\n",
        "The third row represents class 2, and the values follow a similar interpretation as for classes 0 and 1."
      ],
      "metadata": {
        "id": "w3W4STzpTaS3"
      }
    },
    {
      "cell_type": "code",
      "source": [
        "print(classification_report(y_test, y_pred_tf))"
      ],
      "metadata": {
        "colab": {
          "base_uri": "https://localhost:8080/"
        },
        "id": "sHFVhUmzdDgN",
        "outputId": "83eb25bb-366c-42fd-9764-f699a6a5df57"
      },
      "execution_count": null,
      "outputs": [
        {
          "output_type": "stream",
          "name": "stdout",
          "text": [
            "              precision    recall  f1-score   support\n",
            "\n",
            "           0       0.75      0.90      0.82      6039\n",
            "           1       0.53      0.21      0.31       828\n",
            "           2       0.82      0.69      0.75      4271\n",
            "\n",
            "    accuracy                           0.77     11138\n",
            "   macro avg       0.70      0.60      0.63     11138\n",
            "weighted avg       0.76      0.77      0.76     11138\n",
            "\n"
          ]
        }
      ]
    },
    {
      "cell_type": "markdown",
      "source": [
        "# Part Three - Results and Comparisons"
      ],
      "metadata": {
        "id": "PdxW3-IADLJH"
      }
    },
    {
      "cell_type": "code",
      "source": [
        "# Compare accuracy results from each model\n",
        "accuracies = pd.DataFrame({\n",
        "    'Model': ['Logistic Regression', 'Random Forest', 'Tensor Flow'],\n",
        "    'Testing Accuracy': [lg_accuracy * 100, rf_accuracy * 100, tf_accuracy * 100]\n",
        "})\n",
        "\n",
        "accuracies"
      ],
      "metadata": {
        "colab": {
          "base_uri": "https://localhost:8080/",
          "height": 143
        },
        "id": "pDCJAkPqqulI",
        "outputId": "59ff4211-a94e-4b92-ad6a-ff3da3b55539"
      },
      "execution_count": null,
      "outputs": [
        {
          "output_type": "execute_result",
          "data": {
            "text/plain": [
              "                 Model  Testing Accuracy\n",
              "0  Logistic Regression         73.666727\n",
              "1        Random Forest         78.945951\n",
              "2          Tensor Flow         76.961753"
            ],
            "text/html": [
              "\n",
              "  <div id=\"df-a952fa3d-aeae-4e45-98a0-cb42270a7c89\">\n",
              "    <div class=\"colab-df-container\">\n",
              "      <div>\n",
              "<style scoped>\n",
              "    .dataframe tbody tr th:only-of-type {\n",
              "        vertical-align: middle;\n",
              "    }\n",
              "\n",
              "    .dataframe tbody tr th {\n",
              "        vertical-align: top;\n",
              "    }\n",
              "\n",
              "    .dataframe thead th {\n",
              "        text-align: right;\n",
              "    }\n",
              "</style>\n",
              "<table border=\"1\" class=\"dataframe\">\n",
              "  <thead>\n",
              "    <tr style=\"text-align: right;\">\n",
              "      <th></th>\n",
              "      <th>Model</th>\n",
              "      <th>Testing Accuracy</th>\n",
              "    </tr>\n",
              "  </thead>\n",
              "  <tbody>\n",
              "    <tr>\n",
              "      <th>0</th>\n",
              "      <td>Logistic Regression</td>\n",
              "      <td>73.666727</td>\n",
              "    </tr>\n",
              "    <tr>\n",
              "      <th>1</th>\n",
              "      <td>Random Forest</td>\n",
              "      <td>78.945951</td>\n",
              "    </tr>\n",
              "    <tr>\n",
              "      <th>2</th>\n",
              "      <td>Tensor Flow</td>\n",
              "      <td>76.961753</td>\n",
              "    </tr>\n",
              "  </tbody>\n",
              "</table>\n",
              "</div>\n",
              "      <button class=\"colab-df-convert\" onclick=\"convertToInteractive('df-a952fa3d-aeae-4e45-98a0-cb42270a7c89')\"\n",
              "              title=\"Convert this dataframe to an interactive table.\"\n",
              "              style=\"display:none;\">\n",
              "        \n",
              "  <svg xmlns=\"http://www.w3.org/2000/svg\" height=\"24px\"viewBox=\"0 0 24 24\"\n",
              "       width=\"24px\">\n",
              "    <path d=\"M0 0h24v24H0V0z\" fill=\"none\"/>\n",
              "    <path d=\"M18.56 5.44l.94 2.06.94-2.06 2.06-.94-2.06-.94-.94-2.06-.94 2.06-2.06.94zm-11 1L8.5 8.5l.94-2.06 2.06-.94-2.06-.94L8.5 2.5l-.94 2.06-2.06.94zm10 10l.94 2.06.94-2.06 2.06-.94-2.06-.94-.94-2.06-.94 2.06-2.06.94z\"/><path d=\"M17.41 7.96l-1.37-1.37c-.4-.4-.92-.59-1.43-.59-.52 0-1.04.2-1.43.59L10.3 9.45l-7.72 7.72c-.78.78-.78 2.05 0 2.83L4 21.41c.39.39.9.59 1.41.59.51 0 1.02-.2 1.41-.59l7.78-7.78 2.81-2.81c.8-.78.8-2.07 0-2.86zM5.41 20L4 18.59l7.72-7.72 1.47 1.35L5.41 20z\"/>\n",
              "  </svg>\n",
              "      </button>\n",
              "      \n",
              "  <style>\n",
              "    .colab-df-container {\n",
              "      display:flex;\n",
              "      flex-wrap:wrap;\n",
              "      gap: 12px;\n",
              "    }\n",
              "\n",
              "    .colab-df-convert {\n",
              "      background-color: #E8F0FE;\n",
              "      border: none;\n",
              "      border-radius: 50%;\n",
              "      cursor: pointer;\n",
              "      display: none;\n",
              "      fill: #1967D2;\n",
              "      height: 32px;\n",
              "      padding: 0 0 0 0;\n",
              "      width: 32px;\n",
              "    }\n",
              "\n",
              "    .colab-df-convert:hover {\n",
              "      background-color: #E2EBFA;\n",
              "      box-shadow: 0px 1px 2px rgba(60, 64, 67, 0.3), 0px 1px 3px 1px rgba(60, 64, 67, 0.15);\n",
              "      fill: #174EA6;\n",
              "    }\n",
              "\n",
              "    [theme=dark] .colab-df-convert {\n",
              "      background-color: #3B4455;\n",
              "      fill: #D2E3FC;\n",
              "    }\n",
              "\n",
              "    [theme=dark] .colab-df-convert:hover {\n",
              "      background-color: #434B5C;\n",
              "      box-shadow: 0px 1px 3px 1px rgba(0, 0, 0, 0.15);\n",
              "      filter: drop-shadow(0px 1px 2px rgba(0, 0, 0, 0.3));\n",
              "      fill: #FFFFFF;\n",
              "    }\n",
              "  </style>\n",
              "\n",
              "      <script>\n",
              "        const buttonEl =\n",
              "          document.querySelector('#df-a952fa3d-aeae-4e45-98a0-cb42270a7c89 button.colab-df-convert');\n",
              "        buttonEl.style.display =\n",
              "          google.colab.kernel.accessAllowed ? 'block' : 'none';\n",
              "\n",
              "        async function convertToInteractive(key) {\n",
              "          const element = document.querySelector('#df-a952fa3d-aeae-4e45-98a0-cb42270a7c89');\n",
              "          const dataTable =\n",
              "            await google.colab.kernel.invokeFunction('convertToInteractive',\n",
              "                                                     [key], {});\n",
              "          if (!dataTable) return;\n",
              "\n",
              "          const docLinkHtml = 'Like what you see? Visit the ' +\n",
              "            '<a target=\"_blank\" href=https://colab.research.google.com/notebooks/data_table.ipynb>data table notebook</a>'\n",
              "            + ' to learn more about interactive tables.';\n",
              "          element.innerHTML = '';\n",
              "          dataTable['output_type'] = 'display_data';\n",
              "          await google.colab.output.renderOutput(dataTable, element);\n",
              "          const docLink = document.createElement('div');\n",
              "          docLink.innerHTML = docLinkHtml;\n",
              "          element.appendChild(docLink);\n",
              "        }\n",
              "      </script>\n",
              "    </div>\n",
              "  </div>\n",
              "  "
            ]
          },
          "metadata": {},
          "execution_count": 67
        }
      ]
    },
    {
      "cell_type": "code",
      "source": [
        "accuracy_lr = accuracy_score(y_test, y_pred_lr)\n",
        "accuracy_rf = accuracy_score(y_test, y_pred_rf)\n",
        "accuracy_tf = accuracy_score(y_test, y_pred_tf)\n",
        "\n",
        "# Create a bar graph of model accuracy\n",
        "models = ['Logistic Regression', 'Random Forest', 'TensorFlow']\n",
        "accuracies = [accuracy_lr, accuracy_rf, accuracy_tf]\n",
        "\n",
        "# Create a bar graph using Seaborn\n",
        "sns.barplot(x=accuracies, y=models, orient='h')\n",
        "plt.ylabel('Accuracy')\n",
        "plt.xlabel('Models')\n",
        "plt.title('Model Accuracy Comparison')\n",
        "plt.show()"
      ],
      "metadata": {
        "colab": {
          "base_uri": "https://localhost:8080/",
          "height": 472
        },
        "id": "4w_MmuOOQh55",
        "outputId": "3673992b-4472-43c2-e086-e6e67fa8b752"
      },
      "execution_count": null,
      "outputs": [
        {
          "output_type": "display_data",
          "data": {
            "text/plain": [
              "<Figure size 640x480 with 1 Axes>"
            ],
            "image/png": "[encoded data removed]"
          },
          "metadata": {}
        }
      ]
    },
    {
      "cell_type": "markdown",
      "source": [
        "From the accuracy results, it can be seen that the random forest had the best accuracy of 79% followed by the tensor flow model with an accuracy of 77% and logistic regression of 74%"
      ],
      "metadata": {
        "id": "659GG6x3P3Hz"
      }
    },
    {
      "cell_type": "code",
      "source": [
        "class_counts = np.bincount(y_test)\n",
        "\n",
        "# Print class counts\n",
        "for i, count in enumerate(class_counts):\n",
        "    print(f\"Class {i}: {count} occurrences\")"
      ],
      "metadata": {
        "colab": {
          "base_uri": "https://localhost:8080/"
        },
        "id": "LuN2eTnpT93U",
        "outputId": "00756232-37fd-484a-ab31-ee3c25e894d8"
      },
      "execution_count": null,
      "outputs": [
        {
          "output_type": "stream",
          "name": "stdout",
          "text": [
            "Class 0: 6039 occurrences\n",
            "Class 1: 828 occurrences\n",
            "Class 2: 4271 occurrences\n"
          ]
        }
      ]
    },
    {
      "cell_type": "code",
      "source": [
        "# Compute confusion matrices for each model\n",
        "cm_lr = confusion_matrix(y_test, y_pred_lr)\n",
        "cm_rf = confusion_matrix(y_test, y_pred_rf)\n",
        "cm_tf = confusion_matrix(y_test, y_pred_tf)\n",
        "\n",
        "# Calculate percentage of correct predictions for each class\n",
        "percentage_matrix_lr = np.round(cm_lr.astype('float') / cm_lr.sum(axis=1)[:, np.newaxis], 2) * 100\n",
        "percentage_matrix_rf = np.round(cm_rf.astype('float') / cm_rf.sum(axis=1)[:, np.newaxis], 2) * 100\n",
        "percentage_matrix_tf = np.round(cm_tf.astype('float') / cm_tf.sum(axis=1)[:, np.newaxis], 2) * 100\n",
        "\n",
        "# Create a subplot with 1 row and 3 columns\n",
        "fig, axes = plt.subplots(1, 3, figsize=(15, 5))\n",
        "\n",
        "# Plot confusion matrix for Logistic Regression\n",
        "sns.heatmap(percentage_matrix_lr, annot=True, fmt=\".2f\", cmap=\"Blues\", cbar=False, ax=axes[0])\n",
        "axes[0].set_xlabel('Predicted Labels')\n",
        "axes[0].set_ylabel('True Labels')\n",
        "axes[0].set_title('Logistic Regression')\n",
        "\n",
        "# Plot confusion matrix for Random Forest\n",
        "sns.heatmap(percentage_matrix_rf, annot=True, fmt=\".2f\", cmap=\"Blues\", cbar=False, ax=axes[1])\n",
        "axes[1].set_xlabel('Predicted Labels')\n",
        "axes[1].set_ylabel('True Labels')\n",
        "axes[1].set_title('Random Forest')\n",
        "\n",
        "# Plot confusion matrix for TensorFlow\n",
        "sns.heatmap(percentage_matrix_tf, annot=True, fmt=\".2f\", cmap=\"Blues\", cbar=False, ax=axes[2])\n",
        "axes[2].set_xlabel('Predicted Labels')\n",
        "axes[2].set_ylabel('True Labels')\n",
        "axes[2].set_title('TensorFlow')\n",
        "\n",
        "plt.suptitle('Confusion Matrix Comparison (Percentage of Correct Predictions)')\n",
        "plt.tight_layout()\n",
        "plt.show()"
      ],
      "metadata": {
        "colab": {
          "base_uri": "https://localhost:8080/",
          "height": 512
        },
        "id": "vv3FdJnNR5mi",
        "outputId": "f5a4b9e6-3589-4197-e8ac-47717c60f65e"
      },
      "execution_count": null,
      "outputs": [
        {
          "output_type": "display_data",
          "data": {
            "text/plain": [
              "<Figure size 1500x500 with 3 Axes>"
            ],
            "image/png": "[encoded data removed]"
          },
          "metadata": {}
        }
      ]
    }
  ],
  "metadata": {
    "language_info": {
      "name": "python"
    },
    "orig_nbformat": 4,
    "colab": {
      "provenance": [],
      "include_colab_link": true
    },
    "kernelspec": {
      "name": "python3",
      "display_name": "Python 3"
    },
    "gpuClass": "standard"
  },
  "nbformat": 4,
  "nbformat_minor": 0
}